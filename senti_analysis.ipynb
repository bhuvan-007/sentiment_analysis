{
 "cells": [
  {
   "cell_type": "markdown",
   "metadata": {},
   "source": [
    "# &emsp;&emsp;&emsp;&emsp;&emsp;&emsp;&emsp;&emsp;&emsp;&emsp;&emsp;&emsp;Sentimental Analysis"
   ]
  },
  {
   "cell_type": "code",
   "execution_count": 0,
   "metadata": {
    "colab": {
     "base_uri": "https://localhost:8080/",
     "height": 54
    },
    "colab_type": "code",
    "id": "WoTqx0fSGk3l",
    "outputId": "16ac441a-d917-4693-8168-9e18361e149a"
   },
   "outputs": [
    {
     "name": "stdout",
     "output_type": "stream",
     "text": [
      "[nltk_data] Downloading package stopwords to /root/nltk_data...\n",
      "[nltk_data]   Package stopwords is already up-to-date!\n"
     ]
    }
   ],
   "source": [
    "import time\n",
    "import nltk\n",
    "nltk.download('stopwords')\n",
    "import pandas as pd\n",
    "import numpy as np\n",
    "import warnings\n",
    "warnings.filterwarnings('ignore')\n",
    "\n",
    "from collections import Counter\n",
    "import seaborn as sns\n",
    "from tqdm.notebook import tqdm\n",
    "from nltk.corpus import stopwords\n",
    "import matplotlib.pyplot as plt\n",
    "\n",
    "from sklearn.naive_bayes import MultinomialNB\n",
    "from sklearn.linear_model import LogisticRegression\n",
    "from sklearn.model_selection import train_test_split,GridSearchCV"
   ]
  },
  {
   "cell_type": "markdown",
   "metadata": {
    "colab_type": "text",
    "id": "YigYJnPxHoDk"
   },
   "source": [
    "**Reading The Data File**"
   ]
  },
  {
   "cell_type": "code",
   "execution_count": 0,
   "metadata": {
    "colab": {
     "base_uri": "https://localhost:8080/",
     "height": 54
    },
    "colab_type": "code",
    "id": "tL7co9WAGk3t",
    "outputId": "4d13e832-4989-418e-d61d-eb441b344f98"
   },
   "outputs": [
    {
     "name": "stdout",
     "output_type": "stream",
     "text": [
      "The Dataset have 413840 rows and 6 columns\n",
      "The Columns have ['Product Name' 'Brand Name' 'Price' 'Rating' 'Reviews' 'Review Votes'] columns\n"
     ]
    }
   ],
   "source": [
    "path=\"Enter Folder Path Here\"\n",
    "data=pd.read_csv(path+\"Amazon_Unlocked_Mobile.csv\")\n",
    "print(\"The Dataset have {rows} rows and {cols} columns\".format(rows=data.shape[0],cols=data.shape[1]))\n",
    "print(\"The Columns have {cols} columns\".format(cols=data.columns.values))"
   ]
  },
  {
   "cell_type": "markdown",
   "metadata": {
    "colab_type": "text",
    "id": "khhDDiGWH2Lt"
   },
   "source": [
    "**We are interested in Reviews and Rating Columns . So we remove rest of the columns**"
   ]
  },
  {
   "cell_type": "code",
   "execution_count": 0,
   "metadata": {
    "colab": {},
    "colab_type": "code",
    "id": "nGLWYpg3Htej"
   },
   "outputs": [],
   "source": [
    "data_re=data[[\"Rating\",\"Reviews\"]]"
   ]
  },
  {
   "cell_type": "code",
   "execution_count": 0,
   "metadata": {
    "colab": {
     "base_uri": "https://localhost:8080/",
     "height": 54
    },
    "colab_type": "code",
    "id": "c13U5QZXLQuu",
    "outputId": "c9f9ca53-8f59-47cb-8603-d63f7c959650"
   },
   "outputs": [
    {
     "name": "stdout",
     "output_type": "stream",
     "text": [
      "Total Number of  Reviews 413840\n",
      "Total Number of Unique Reviews are 162492\n"
     ]
    }
   ],
   "source": [
    "print(\"Total Number of  Reviews\",len(data[\"Reviews\"]))\n",
    "print(\"Total Number of Unique Reviews are\" ,len(data[\"Reviews\"].unique()))"
   ]
  },
  {
   "cell_type": "markdown",
   "metadata": {
    "colab_type": "text",
    "id": "fa1x3i90JtO9"
   },
   "source": [
    "**Droping Duplicates and NULL values**"
   ]
  },
  {
   "cell_type": "code",
   "execution_count": 0,
   "metadata": {
    "colab": {
     "base_uri": "https://localhost:8080/",
     "height": 35
    },
    "colab_type": "code",
    "id": "d4se9OT_KcgV",
    "outputId": "c4eb238c-e3d8-499d-cc32-7fe1cecd8d54"
   },
   "outputs": [
    {
     "name": "stdout",
     "output_type": "stream",
     "text": [
      "Now The Dataset have 163961 rows and 2 columns\n"
     ]
    }
   ],
   "source": [
    "data_re=data_re.drop_duplicates()\n",
    "data_re=data_re.dropna()\n",
    "print(\"Now The Dataset have {rows} rows and {cols} columns\".format(rows=data_re.shape[0],cols=data_re.shape[1]))"
   ]
  },
  {
   "cell_type": "code",
   "execution_count": 0,
   "metadata": {
    "colab": {
     "base_uri": "https://localhost:8080/",
     "height": 35
    },
    "colab_type": "code",
    "id": "o3-t8ZLGGk3z",
    "outputId": "b89eb33c-fb8b-430e-d359-6f806db4f6f9"
   },
   "outputs": [
    {
     "data": {
      "text/plain": [
       "array([5, 4, 1, 2, 3])"
      ]
     },
     "execution_count": 9,
     "metadata": {
      "tags": []
     },
     "output_type": "execute_result"
    }
   ],
   "source": [
    "data_re[\"Rating\"].unique()"
   ]
  },
  {
   "cell_type": "markdown",
   "metadata": {
    "colab_type": "text",
    "id": "sMWhDaZGQsOy"
   },
   "source": [
    "The Ratings goes from 1 to 5. \n"
   ]
  },
  {
   "cell_type": "markdown",
   "metadata": {
    "colab_type": "text",
    "id": "muwylkpjRn0n"
   },
   "source": [
    "Marking the Rating as :\n",
    "><br> 1 and 2 as Negative.\n",
    "><br> 4 and 5 as Positive.\n",
    "\n",
    "<br>Delete the rows where ratings=3\n"
   ]
  },
  {
   "cell_type": "code",
   "execution_count": 0,
   "metadata": {
    "colab": {},
    "colab_type": "code",
    "id": "CyGb2D6wGk35"
   },
   "outputs": [],
   "source": [
    "data_re.loc[data_re[\"Rating\"]<3,\"sentiment\"]=\"Negative\"\n",
    "data_re.loc[data_re[\"Rating\"]>3,\"sentiment\"]=\"Positive\"\n",
    "indexNames = data_re[data_re[\"Rating\"]==3].index\n",
    "data_re=data_re.drop(indexNames )"
   ]
  },
  {
   "cell_type": "markdown",
   "metadata": {
    "colab_type": "text",
    "id": "rH_EWzSuUqzr"
   },
   "source": [
    "**Classwise Distribution**"
   ]
  },
  {
   "cell_type": "code",
   "execution_count": 0,
   "metadata": {
    "colab": {
     "base_uri": "https://localhost:8080/",
     "height": 72
    },
    "colab_type": "code",
    "id": "LKQ2_nXNSJUj",
    "outputId": "7b2101b4-d889-4196-ec82-bdd9daf56d73"
   },
   "outputs": [
    {
     "data": {
      "text/plain": [
       "Positive    104821\n",
       "Negative     44525\n",
       "Name: sentiment, dtype: int64"
      ]
     },
     "execution_count": 11,
     "metadata": {
      "tags": []
     },
     "output_type": "execute_result"
    }
   ],
   "source": [
    "data_re[\"sentiment\"].value_counts()"
   ]
  },
  {
   "cell_type": "markdown",
   "metadata": {
    "colab_type": "text",
    "id": "AG5zs8t1U4dH"
   },
   "source": [
    "**Histogram**"
   ]
  },
  {
   "cell_type": "code",
   "execution_count": 0,
   "metadata": {
    "colab": {
     "base_uri": "https://localhost:8080/",
     "height": 297
    },
    "colab_type": "code",
    "id": "3Sb0JugCUvEZ",
    "outputId": "0f13f735-3998-4f54-f87a-b69999bad769"
   },
   "outputs": [
    {
     "data": {
      "text/plain": [
       "<matplotlib.axes._subplots.AxesSubplot at 0x7fa623730470>"
      ]
     },
     "execution_count": 12,
     "metadata": {
      "tags": []
     },
     "output_type": "execute_result"
    },
    {
     "data": {
      "image/png": "[encoded data removed]",
      "text/plain": [
       "<Figure size 432x288 with 1 Axes>"
      ]
     },
     "metadata": {
      "needs_background": "light",
      "tags": []
     },
     "output_type": "display_data"
    }
   ],
   "source": [
    "sns.countplot('sentiment',data=data_re)"
   ]
  },
  {
   "cell_type": "markdown",
   "metadata": {
    "colab_type": "text",
    "id": "V7DZ5D6BU5Ns"
   },
   "source": [
    "**Pie Chart**"
   ]
  },
  {
   "cell_type": "code",
   "execution_count": 0,
   "metadata": {
    "colab": {
     "base_uri": "https://localhost:8080/",
     "height": 485
    },
    "colab_type": "code",
    "id": "itGWjI-rU0qu",
    "outputId": "d45eb4c3-f031-470f-e595-d36b8765aeed"
   },
   "outputs": [
    {
     "data": {
      "text/plain": [
       "<matplotlib.axes._subplots.AxesSubplot at 0x7fa623470780>"
      ]
     },
     "execution_count": 13,
     "metadata": {
      "tags": []
     },
     "output_type": "execute_result"
    },
    {
     "data": {
      "image/png": "[encoded data removed]",
      "text/plain": [
       "<Figure size 720x576 with 1 Axes>"
      ]
     },
     "metadata": {
      "tags": []
     },
     "output_type": "display_data"
    }
   ],
   "source": [
    "data_re['sentiment'].value_counts().plot.pie(explode=[0.1,0.1],autopct='%1.2f%%',shadow=True,figsize=(10,8))"
   ]
  },
  {
   "cell_type": "code",
   "execution_count": 0,
   "metadata": {
    "colab": {
     "base_uri": "https://localhost:8080/",
     "height": 198
    },
    "colab_type": "code",
    "id": "M0Z3WVXHGk4L",
    "outputId": "d2026927-aecc-4417-ec84-4b505608f450"
   },
   "outputs": [
    {
     "data": {
      "text/html": [
       "<div>\n",
       "<style scoped>\n",
       "    .dataframe tbody tr th:only-of-type {\n",
       "        vertical-align: middle;\n",
       "    }\n",
       "\n",
       "    .dataframe tbody tr th {\n",
       "        vertical-align: top;\n",
       "    }\n",
       "\n",
       "    .dataframe thead th {\n",
       "        text-align: right;\n",
       "    }\n",
       "</style>\n",
       "<table border=\"1\" class=\"dataframe\">\n",
       "  <thead>\n",
       "    <tr style=\"text-align: right;\">\n",
       "      <th></th>\n",
       "      <th>Rating</th>\n",
       "      <th>Reviews</th>\n",
       "      <th>sentiment</th>\n",
       "    </tr>\n",
       "  </thead>\n",
       "  <tbody>\n",
       "    <tr>\n",
       "      <th>0</th>\n",
       "      <td>5</td>\n",
       "      <td>I feel so LUCKY to have found this used (phone...</td>\n",
       "      <td>Positive</td>\n",
       "    </tr>\n",
       "    <tr>\n",
       "      <th>1</th>\n",
       "      <td>4</td>\n",
       "      <td>nice phone, nice up grade from my pantach revu...</td>\n",
       "      <td>Positive</td>\n",
       "    </tr>\n",
       "    <tr>\n",
       "      <th>2</th>\n",
       "      <td>5</td>\n",
       "      <td>Very pleased</td>\n",
       "      <td>Positive</td>\n",
       "    </tr>\n",
       "    <tr>\n",
       "      <th>3</th>\n",
       "      <td>4</td>\n",
       "      <td>It works good but it goes slow sometimes but i...</td>\n",
       "      <td>Positive</td>\n",
       "    </tr>\n",
       "    <tr>\n",
       "      <th>4</th>\n",
       "      <td>4</td>\n",
       "      <td>Great phone to replace my lost phone. The only...</td>\n",
       "      <td>Positive</td>\n",
       "    </tr>\n",
       "  </tbody>\n",
       "</table>\n",
       "</div>"
      ],
      "text/plain": [
       "   Rating                                            Reviews sentiment\n",
       "0       5  I feel so LUCKY to have found this used (phone...  Positive\n",
       "1       4  nice phone, nice up grade from my pantach revu...  Positive\n",
       "2       5                                       Very pleased  Positive\n",
       "3       4  It works good but it goes slow sometimes but i...  Positive\n",
       "4       4  Great phone to replace my lost phone. The only...  Positive"
      ]
     },
     "execution_count": 14,
     "metadata": {
      "tags": []
     },
     "output_type": "execute_result"
    }
   ],
   "source": [
    "data_re.describe()\n",
    "data_re.head(5)"
   ]
  },
  {
   "cell_type": "markdown",
   "metadata": {
    "colab_type": "text",
    "id": "BvVtJFq8uiWw"
   },
   "source": [
    "Extend the StopWords set to include \"Brand Name\" & \"Product Name\" also so they can be excluded from Reviews during training."
   ]
  },
  {
   "cell_type": "code",
   "execution_count": 0,
   "metadata": {
    "colab": {
     "base_uri": "https://localhost:8080/",
     "height": 35
    },
    "colab_type": "code",
    "id": "gHmarE4OGk4n",
    "outputId": "afbabbfb-be37-4ab5-c9f8-5a7442c52c0a"
   },
   "outputs": [
    {
     "name": "stdout",
     "output_type": "stream",
     "text": [
      "6278\n"
     ]
    }
   ],
   "source": [
    "stop_words = set(stopwords.words('english'))\n",
    "stop_words_list=[]\n",
    "for x in data[\"Product Name\"]+\" \"+data[\"Brand Name\"]:\n",
    "    if isinstance(x,str):\n",
    "      for j in x.split():\n",
    "        if isinstance(j,str):\n",
    "          stop_words_list.append(j)\n",
    "\n",
    "stop_words_list_set=set(stop_words_list)\n",
    "stop_words_set=stop_words|stop_words_list_set\n",
    "print(len(stop_words_set))"
   ]
  },
  {
   "cell_type": "markdown",
   "metadata": {
    "colab_type": "text",
    "id": "LBKtTWu7WiQ0"
   },
   "source": [
    "\n",
    "**Pre Processing Reviews**\n"
   ]
  },
  {
   "cell_type": "code",
   "execution_count": 0,
   "metadata": {
    "colab": {
     "base_uri": "https://localhost:8080/",
     "height": 85,
     "referenced_widgets": [
      "2c5bfdcff7c84e1e80c408e8483534e4",
      "fd9b40404fb24c94bba01817b60bcf83",
      "cf8f2642dca745529ca8a45bd0936ed5",
      "987349266d3c449681917f9cf40ae191",
      "f21a7589d1dc417696e4eea5c89ade02",
      "6aa16dae4ea945d39b572c820e84514e",
      "1d1b0f9cb0ce40c6b0a4fbcddda33db7",
      "a72d15850db24df78d9a4c9e0f4d7e65"
     ]
    },
    "colab_type": "code",
    "id": "ziSEl3sRGk4x",
    "outputId": "552aa6bd-0fc5-45c7-fa0f-adef256b3e45"
   },
   "outputs": [
    {
     "data": {
      "application/vnd.jupyter.widget-view+json": {
       "model_id": "2c5bfdcff7c84e1e80c408e8483534e4",
       "version_major": 2,
       "version_minor": 0
      },
      "text/plain": [
       "HBox(children=(FloatProgress(value=0.0, max=149346.0), HTML(value='')))"
      ]
     },
     "metadata": {
      "tags": []
     },
     "output_type": "display_data"
    },
    {
     "name": "stdout",
     "output_type": "stream",
     "text": [
      "\n",
      "Total time taken to preprocess whole Reviews 147.15 seconds\n"
     ]
    }
   ],
   "source": [
    "# print ('list of stop words:', stop_words)\n",
    "\n",
    "def nlp_preprocessing(total_text, index, column):\n",
    "    if (type(total_text) is not int) and (type(total_text) is not float):\n",
    "        string = \"\"\n",
    "        for words in total_text.split():\n",
    "            word = (\"\".join(char for char in words if char.isalpha())) #remove the special chars like '\"#$@!%^&*()_+-~?><\n",
    "            word = word.lower()                                        # Convert all letters to lower-case\n",
    "            if not word in stop_words_set:                             # stop-word removal\n",
    "                string += word + \" \"\n",
    "        data_re[column][index] = string\n",
    "    else:\n",
    "        pass\n",
    "    return string\n",
    "\n",
    "start_time = time.clock()\n",
    "# we take each Review and we text-preprocess it.\n",
    "with tqdm(total=data_re.shape[0]) as pbar:\n",
    "  for index, row in data_re.iterrows():\n",
    "      nlp_preprocessing(row['Reviews'], index, 'Reviews')\n",
    "      pbar.update(1)\n",
    "print(\"Total time taken to preprocess whole Reviews {0:.2f} seconds\".format(time.clock() - start_time))"
   ]
  },
  {
   "cell_type": "markdown",
   "metadata": {
    "colab_type": "text",
    "id": "SZAx6Fqz0C5c"
   },
   "source": [
    "**Add a new Columns \"Review_length**"
   ]
  },
  {
   "cell_type": "code",
   "execution_count": 0,
   "metadata": {
    "colab": {
     "base_uri": "https://localhost:8080/",
     "height": 90
    },
    "colab_type": "code",
    "id": "Ry10-JAYn2uP",
    "outputId": "65f7de02-d84c-45ff-dabb-62d4e11b24d9"
   },
   "outputs": [
    {
     "name": "stdout",
     "output_type": "stream",
     "text": [
      "sentiment\n",
      "Negative    21.871129\n",
      "Positive    19.890938\n",
      "Name: Review_len, dtype: float64\n"
     ]
    }
   ],
   "source": [
    "data_re[\"Review_len\"]=data_re['Reviews'].apply(lambda x: len(x.split()))\n",
    "print(data_re.groupby(\"sentiment\")['Review_len'].agg('mean'))"
   ]
  },
  {
   "cell_type": "markdown",
   "metadata": {
    "colab_type": "text",
    "id": "JEIk5kBCphpM"
   },
   "source": [
    "**DistPlot** :- <br>&emsp;plot distribution of length of reviews. "
   ]
  },
  {
   "cell_type": "code",
   "execution_count": 0,
   "metadata": {
    "colab": {
     "base_uri": "https://localhost:8080/",
     "height": 745
    },
    "colab_type": "code",
    "id": "rmQM_EU14GVu",
    "outputId": "437cff37-75e5-48b8-9cab-951e6eb65cbb"
   },
   "outputs": [
    {
     "data": {
      "image/png": "[encoded data removed]",
      "text/plain": [
       "<Figure size 800.875x720 with 1 Axes>"
      ]
     },
     "metadata": {
      "needs_background": "light",
      "tags": []
     },
     "output_type": "display_data"
    }
   ],
   "source": [
    "g=sns.FacetGrid(data_re, hue=\"sentiment\", size=10) \n",
    "g.map(sns.distplot, \"Review_len\").add_legend();\n",
    "plt.xticks(rotation='vertical')\n",
    "plt.show();"
   ]
  },
  {
   "cell_type": "markdown",
   "metadata": {
    "colab_type": "text",
    "id": "6hsfKIyYbHyi"
   },
   "source": [
    "Word-Frequency Histogram of 50 most common words in Positive Reviews\n",
    "\n",
    "---\n",
    "\n",
    "\n",
    "\n",
    "---\n",
    "\n"
   ]
  },
  {
   "cell_type": "code",
   "execution_count": 0,
   "metadata": {
    "colab": {
     "base_uri": "https://localhost:8080/",
     "height": 346
    },
    "colab_type": "code",
    "id": "61ayDAOHGk5A",
    "outputId": "bb78c9a0-3583-4c27-bc54-6a201b82e550"
   },
   "outputs": [
    {
     "data": {
      "image/png": "[encoded data removed]",
      "text/plain": [
       "<Figure size 1296x360 with 1 Axes>"
      ]
     },
     "metadata": {
      "needs_background": "light",
      "tags": []
     },
     "output_type": "display_data"
    }
   ],
   "source": [
    "coun=Counter(\" \".join(data_re[data_re[\"sentiment\"]==\"Positive\"][\"Reviews\"]).split()).most_common(50)\n",
    "words= [x[0] for x in coun]\n",
    "values= [x[1] for x in coun]\n",
    "import matplotlib.pyplot as plt\n",
    "f, ax = plt.subplots(figsize=(18,5))\n",
    "plt.bar(range(len(values)), values, align='center')\n",
    "plt.xticks(range(len(words)), words, rotation='vertical')\n",
    "plt.show()"
   ]
  },
  {
   "cell_type": "markdown",
   "metadata": {
    "colab_type": "text",
    "id": "Qdg8Fib4bosZ"
   },
   "source": [
    "Word-Frequency Histogram of 50 most common words in Negative Reviews\n",
    "\n",
    "---\n",
    "\n",
    "\n",
    "\n",
    "---\n",
    "\n",
    "\n"
   ]
  },
  {
   "cell_type": "code",
   "execution_count": 0,
   "metadata": {
    "colab": {
     "base_uri": "https://localhost:8080/",
     "height": 351
    },
    "colab_type": "code",
    "id": "wNvz2BzDGk5F",
    "outputId": "7ca5b2a8-24a8-438a-8a71-02cb7b579399"
   },
   "outputs": [
    {
     "data": {
      "image/png": "[encoded data removed]",
      "text/plain": [
       "<Figure size 1296x360 with 1 Axes>"
      ]
     },
     "metadata": {
      "needs_background": "light",
      "tags": []
     },
     "output_type": "display_data"
    }
   ],
   "source": [
    "coun=Counter(\" \".join(data_re[data_re[\"sentiment\"]==\"Negative\"][\"Reviews\"]).split()).most_common(50)\n",
    "words= [x[0] for x in coun]\n",
    "values= [x[1] for x in coun]\n",
    "import matplotlib.pyplot as plt\n",
    "f, ax = plt.subplots(figsize=(18,5))\n",
    "plt.bar(range(len(values)), values, align='center')\n",
    "plt.xticks(range(len(words)), words, rotation='vertical')\n",
    "plt.show()"
   ]
  },
  {
   "cell_type": "code",
   "execution_count": 0,
   "metadata": {
    "colab": {
     "base_uri": "https://localhost:8080/",
     "height": 35
    },
    "colab_type": "code",
    "id": "N3eiaRvJGk51",
    "outputId": "4572f3b5-9d73-4bac-d5f0-299fcf453f63"
   },
   "outputs": [
    {
     "data": {
      "text/plain": [
       "(149346, 4)"
      ]
     },
     "execution_count": 22,
     "metadata": {
      "tags": []
     },
     "output_type": "execute_result"
    }
   ],
   "source": [
    "data_re.shape"
   ]
  },
  {
   "cell_type": "markdown",
   "metadata": {
    "colab_type": "text",
    "id": "o2wHpnes5FOE"
   },
   "source": [
    "**Calculate Model Performance**<br>\n",
    "\n",
    "---\n",
    "\n",
    "\n",
    "\n",
    "---\n",
    "\n",
    "\n",
    "We can use 3 parameters to evaluate model Performance\n",
    "\n",
    "\n",
    "*   Accuracy\n",
    "\n",
    "*   Classification Report\n",
    "\n",
    "*   Confusion Report\n",
    "\n"
   ]
  },
  {
   "cell_type": "code",
   "execution_count": 0,
   "metadata": {
    "colab": {},
    "colab_type": "code",
    "id": "WeAIxNqVGk55"
   },
   "outputs": [],
   "source": [
    "from sklearn.metrics import accuracy_score\n",
    "from sklearn.metrics import roc_auc_score\n",
    "from sklearn.metrics import classification_report,confusion_matrix\n",
    "def model_efficiency(y_test, y_pred):\n",
    "    print (\"\\nAccuracy on validation set: {:.2f} %\".format(accuracy_score(y_test, y_pred)*100))\n",
    "    print(\"\\nConfusion Matrix : \\n\", confusion_matrix(y_test, y_pred))\n",
    "    print(\"\\nClassification report : \\n\", classification_report(y_test, y_pred))\n"
   ]
  },
  {
   "cell_type": "markdown",
   "metadata": {
    "colab_type": "text",
    "id": "RKBYnCgC832T"
   },
   "source": [
    "**Train Test Split**"
   ]
  },
  {
   "cell_type": "code",
   "execution_count": 0,
   "metadata": {
    "colab": {
     "base_uri": "https://localhost:8080/",
     "height": 54
    },
    "colab_type": "code",
    "id": "SettG2kd67IG",
    "outputId": "6db45e67-88e5-4fba-fcf6-bf5fbb3a7740"
   },
   "outputs": [
    {
     "name": "stdout",
     "output_type": "stream",
     "text": [
      "We have 104542 training examples and 44804 validation examples. \n",
      "\n"
     ]
    }
   ],
   "source": [
    "X_train, X_test, y_train, y_test = train_test_split(data_re['Reviews'], data_re['sentiment'], \\\n",
    "                                                    test_size=0.3, random_state=0)\n",
    "\n",
    "print('We have %d training examples and %d validation examples. \\n' %(X_train.shape[0],X_test.shape[0]))"
   ]
  },
  {
   "cell_type": "markdown",
   "metadata": {
    "colab_type": "text",
    "id": "0cxIahBHcDBD"
   },
   "source": [
    "#### Frequency based Embedding\n",
    "\n",
    "---\n",
    "\n"
   ]
  },
  {
   "cell_type": "markdown",
   "metadata": {
    "colab_type": "text",
    "id": "QTjCwBLigYjj"
   },
   "source": [
    "Count Vector"
   ]
  },
  {
   "cell_type": "code",
   "execution_count": 0,
   "metadata": {
    "colab": {},
    "colab_type": "code",
    "id": "Ik1rPEdvGk6A"
   },
   "outputs": [],
   "source": [
    "from sklearn.feature_extraction.text import CountVectorizer\n",
    "vectorizer = CountVectorizer(analyzer='word', ngram_range=(1,1))\n",
    "X_train_count=vectorizer.fit_transform(X_train)\n",
    "X_test_count=vectorizer.transform(X_test)"
   ]
  },
  {
   "cell_type": "markdown",
   "metadata": {
    "colab_type": "text",
    "id": "uPUd_vzDIRxB"
   },
   "source": [
    "1) A unique rank is given to each word in the data in accordance of their alphabetical order.\n",
    "<br>&emsp;See below"
   ]
  },
  {
   "cell_type": "code",
   "execution_count": 0,
   "metadata": {
    "colab": {
     "base_uri": "https://localhost:8080/",
     "height": 35
    },
    "colab_type": "code",
    "id": "dlapC9NCH_Dj",
    "outputId": "a72b5afa-e415-4ca9-8108-baf3305bfb1e"
   },
   "outputs": [
    {
     "data": {
      "text/plain": [
       "30257"
      ]
     },
     "execution_count": 26,
     "metadata": {
      "tags": []
     },
     "output_type": "execute_result"
    }
   ],
   "source": [
    "import operator\n",
    "sorted(vectorizer.vocabulary_.items(), key=operator.itemgetter(1))[:100]\n",
    "vectorizer.vocabulary_[\"good\"]"
   ]
  },
  {
   "cell_type": "markdown",
   "metadata": {
    "colab_type": "text",
    "id": "H4HbQMf7E4W7"
   },
   "source": [
    "*   For a data set of N observations. We create a N * M matrix,where M is the   count of all the unique words in the data. \n",
    "*   Matrix will have a value=frequency of word if the corresponding columns/word is present else 0. \n",
    "*   But a single observation do not have all the words /columns so most of the element of the matrix will remain empty(=**0**). \n",
    "*   Hence, it is represented by a <b>Sparse Matrix.</b>\n",
    "\n",
    "\n",
    "\n",
    "\n"
   ]
  },
  {
   "cell_type": "code",
   "execution_count": 0,
   "metadata": {
    "colab": {
     "base_uri": "https://localhost:8080/",
     "height": 72
    },
    "colab_type": "code",
    "id": "eRSs7LlE9MYu",
    "outputId": "2b76e6e9-df93-492a-8020-920488f36610"
   },
   "outputs": [
    {
     "name": "stdout",
     "output_type": "stream",
     "text": [
      "<class 'scipy.sparse.csr.csr_matrix'> (104542, 83969)\n",
      "83969\n",
      "83969\n"
     ]
    }
   ],
   "source": [
    "print(type(X_train_count),X_train_count.shape)\n",
    "print(X_train_count.shape[1])\n",
    "print(len(vectorizer.vocabulary_.items()))"
   ]
  },
  {
   "cell_type": "markdown",
   "metadata": {
    "colab_type": "text",
    "id": "lEc7w6S8Kugg"
   },
   "source": [
    "114772 is the number of training observations and 90598 is number of columns/words.<br>\n"
   ]
  },
  {
   "cell_type": "markdown",
   "metadata": {
    "colab_type": "text",
    "id": "XHs7VpZZJHoi"
   },
   "source": [
    "Let us look how word are converted into number for each observation.<br>\n",
    "For this let us see how observation no 4 is converted using frequency based embedding.\n",
    "\n",
    "---\n",
    "\n"
   ]
  },
  {
   "cell_type": "code",
   "execution_count": 0,
   "metadata": {
    "colab": {
     "base_uri": "https://localhost:8080/",
     "height": 90
    },
    "colab_type": "code",
    "id": "i3jccr4yJOSt",
    "outputId": "1088259f-12dc-4da0-ae11-de96f3a83fa4"
   },
   "outputs": [
    {
     "name": "stdout",
     "output_type": "stream",
     "text": [
      "The fourth observation in data is as below :-\n",
      " works beautifully \n",
      "rank of word \"works\" in vocab is 82384\n",
      "rank of word \"beautifully\" in vocab is 6741\n"
     ]
    }
   ],
   "source": [
    "print(\"The fourth observation in data is as below :-\\n\",X_train.iloc[3])\n",
    "for i in X_train.iloc[3].split():\n",
    "  print(\"rank of word \\\"{}\\\" in vocab is {}\".format(i,vectorizer.vocabulary_[i]))"
   ]
  },
  {
   "cell_type": "code",
   "execution_count": 0,
   "metadata": {
    "colab": {
     "base_uri": "https://localhost:8080/",
     "height": 54
    },
    "colab_type": "code",
    "id": "Mlm2wW_kbNoy",
    "outputId": "ffc8fa78-2a51-4105-806c-89fbf8458baf"
   },
   "outputs": [
    {
     "name": "stdout",
     "output_type": "stream",
     "text": [
      "\n",
      "The non zero columns in the training example no 3 are :- [82384  6741]\n"
     ]
    }
   ],
   "source": [
    "print(\"\\nThe non zero columns in the training example no 3 are :-\",X_train_count[3].nonzero()[1])"
   ]
  },
  {
   "cell_type": "code",
   "execution_count": 0,
   "metadata": {
    "colab": {
     "base_uri": "https://localhost:8080/",
     "height": 90
    },
    "colab_type": "code",
    "id": "L3zUIU0ZbPPr",
    "outputId": "7aa10122-3403-4eba-d906-cafc1598cbaa"
   },
   "outputs": [
    {
     "name": "stdout",
     "output_type": "stream",
     "text": [
      "\n",
      "Hence in the Sparse Marix columns corresponding to only these values are non zero rest are 0 \n",
      "   (0, 82384)\t1\n",
      "  (0, 6741)\t1\n"
     ]
    }
   ],
   "source": [
    "print(\"\\nHence in the Sparse Marix columns corresponding to only these values are non zero rest are 0 \\n\",X_train_count[3],)"
   ]
  },
  {
   "cell_type": "markdown",
   "metadata": {
    "colab_type": "text",
    "id": "zhy6U61OYoYN"
   },
   "source": [
    "Accessing sparse matrix values:-"
   ]
  },
  {
   "cell_type": "code",
   "execution_count": 0,
   "metadata": {
    "colab": {
     "base_uri": "https://localhost:8080/",
     "height": 35
    },
    "colab_type": "code",
    "id": "_EOydflgYi4D",
    "outputId": "d01d030e-7c43-4faf-902f-5854e7692de3"
   },
   "outputs": [
    {
     "name": "stdout",
     "output_type": "stream",
     "text": [
      "1 1\n"
     ]
    }
   ],
   "source": [
    "print(X_train_count[3,82384],X_train_count[3,6741])"
   ]
  },
  {
   "cell_type": "markdown",
   "metadata": {
    "colab_type": "text",
    "id": "U2wXAbQKcj5M"
   },
   "source": [
    "1 is the frequency of the word in that observation."
   ]
  },
  {
   "cell_type": "code",
   "execution_count": 0,
   "metadata": {
    "colab": {
     "base_uri": "https://localhost:8080/",
     "height": 35
    },
    "colab_type": "code",
    "id": "iQyhupAQYvRW",
    "outputId": "e2e4c042-0eac-4c9e-be8a-1d45ce8f3ca1"
   },
   "outputs": [
    {
     "name": "stdout",
     "output_type": "stream",
     "text": [
      "higherthese\n"
     ]
    }
   ],
   "source": [
    "print(list(vectorizer.vocabulary_.keys())[list(vectorizer.vocabulary_.values()).index(33246)])"
   ]
  },
  {
   "cell_type": "markdown",
   "metadata": {
    "colab_type": "text",
    "id": "aEDbG5sH6CaR"
   },
   "source": [
    "**Using MultinomialNB**\n"
   ]
  },
  {
   "cell_type": "code",
   "execution_count": 0,
   "metadata": {
    "colab": {
     "base_uri": "https://localhost:8080/",
     "height": 326
    },
    "colab_type": "code",
    "id": "DBIbU0hu5_Eu",
    "outputId": "a5380a86-7725-410e-b571-6544fbe29227"
   },
   "outputs": [
    {
     "name": "stdout",
     "output_type": "stream",
     "text": [
      "\n",
      "Accuracy on validation set: 90.11 %\n",
      "\n",
      "Confusion Matrix : \n",
      " [[10249  2886]\n",
      " [ 1547 30122]]\n",
      "\n",
      "Classification report : \n",
      "               precision    recall  f1-score   support\n",
      "\n",
      "    Negative       0.87      0.78      0.82     13135\n",
      "    Positive       0.91      0.95      0.93     31669\n",
      "\n",
      "    accuracy                           0.90     44804\n",
      "   macro avg       0.89      0.87      0.88     44804\n",
      "weighted avg       0.90      0.90      0.90     44804\n",
      "\n"
     ]
    }
   ],
   "source": [
    "mnb = MultinomialNB()\n",
    "mnb.fit(X_train_count, y_train)\n",
    "y_pred=mnb.predict(X_test_count)\n",
    "model_efficiency(y_test,y_pred)"
   ]
  },
  {
   "cell_type": "code",
   "execution_count": 0,
   "metadata": {
    "colab": {
     "base_uri": "https://localhost:8080/",
     "height": 108
    },
    "colab_type": "code",
    "id": "bPTP2jEM6pRP",
    "outputId": "94585ead-214f-4fc6-ce89-64886dc82b65"
   },
   "outputs": [
    {
     "name": "stdout",
     "output_type": "stream",
     "text": [
      "[31390. 73152.]\n",
      "[-1.20309953 -0.35704944]\n",
      "(1, 83969)\n",
      "-1118110.2685701905\n",
      "(2, 83969)\n"
     ]
    }
   ],
   "source": [
    "print(mnb.class_count_)                                                 #Number of samples present for each class.\n",
    "print(mnb.class_log_prior_)                                             #log(class sample /total samples).\n",
    "print(mnb.coef_.shape)                                                  #feature log probability.\n",
    "print(sum(mnb.coef_[0]))\n",
    "print(mnb.feature_count_.shape)                                   #count of number of features/words for each class."
   ]
  },
  {
   "cell_type": "markdown",
   "metadata": {
    "colab_type": "text",
    "id": "LFkGokqzGk6F"
   },
   "source": [
    "**LOGISTIC REGRESSION**"
   ]
  },
  {
   "cell_type": "markdown",
   "metadata": {
    "colab_type": "text",
    "id": "TemheeKWm3E3"
   },
   "source": [
    "Logistic with regularization"
   ]
  },
  {
   "cell_type": "code",
   "execution_count": 0,
   "metadata": {
    "colab": {
     "base_uri": "https://localhost:8080/",
     "height": 326
    },
    "colab_type": "code",
    "id": "MQUmGJUqlQDY",
    "outputId": "0849bc7f-9ca4-482c-8e39-c6f8d406e818"
   },
   "outputs": [
    {
     "name": "stdout",
     "output_type": "stream",
     "text": [
      "\n",
      "Accuracy on validation set: 90.98 %\n",
      "\n",
      "Confusion Matrix : \n",
      " [[10662  2473]\n",
      " [ 1570 30099]]\n",
      "\n",
      "Classification report : \n",
      "               precision    recall  f1-score   support\n",
      "\n",
      "    Negative       0.87      0.81      0.84     13135\n",
      "    Positive       0.92      0.95      0.94     31669\n",
      "\n",
      "    accuracy                           0.91     44804\n",
      "   macro avg       0.90      0.88      0.89     44804\n",
      "weighted avg       0.91      0.91      0.91     44804\n",
      "\n"
     ]
    }
   ],
   "source": [
    "from sklearn.model_selection import GridSearchCV\n",
    "clf = LogisticRegression(random_state=0)\n",
    "grid_values = {'penalty': ['l1','l2'], 'C': [0.001,0.01,0.1,1]}\n",
    "model_lr = GridSearchCV(clf, param_grid=grid_values)\n",
    "model_lr.fit(X_train_count, y_train)\n",
    "y_pred=model_lr.predict(X_test_count)\n",
    "model_efficiency(y_test,y_pred)"
   ]
  },
  {
   "cell_type": "markdown",
   "metadata": {
    "colab_type": "text",
    "id": "E_ogS7Gt6edR"
   },
   "source": [
    "*   Logistic with regularization is able to give more accuracy. <br> due to the following reasons:-<br>\n",
    ">It can work well with little bit of correlation amongst the features.<br>\n",
    ">It does not make Conditional Independency assumptions amongst the features.<br>\n",
    ">The information/data on prior probabilities is not needed.\n",
    "\n",
    "*   Recall score for Negative Reviews is closer to 1 means False Negative are less this time.\n",
    "*   Precision score for Positive Reviews is closer to 1 means False Positive are less this time.\n",
    "\n",
    "\n",
    "\n"
   ]
  },
  {
   "cell_type": "markdown",
   "metadata": {
    "colab_type": "text",
    "id": "YKCRUXfaGk6W"
   },
   "source": [
    "# TFIDF\n",
    "\n",
    "---\n",
    "\n",
    "\n",
    "\n",
    "---\n",
    "\n",
    "\n",
    "\n",
    "\n",
    ">*   Tf stands for Term Frequency.\n",
    ">\n",
    ">*   Idf stands for Inverse Document Frequency.\n",
    "\n",
    "Formulae:-\n",
    ">*   Tf(word)= frequency of word in sentence/Total frequency of all words in that sentence\n",
    ">*   IDF(word)=log(N/n)\n",
    "    \n",
    "    where,\n",
    "\n",
    ">    N= Total Number of Sentences<br>\n",
    ">    n=Number of sentence that contains the given \"word\"\n",
    "> \n",
    ">    The idea of \"idf\"  here is to  penalise the common words.<br>\n",
    ">    It scales down the count of  common words.\n",
    "\n",
    "\n"
   ]
  },
  {
   "cell_type": "code",
   "execution_count": 0,
   "metadata": {
    "colab": {},
    "colab_type": "code",
    "id": "CEsKg-NfGk6X"
   },
   "outputs": [],
   "source": [
    "from sklearn.feature_extraction.text import TfidfVectorizer\n",
    "vectorizer = TfidfVectorizer()\n",
    "X_train_tfidf=vectorizer.fit_transform(X_train)\n",
    "X_test_tfidf=vectorizer.transform(X_test)"
   ]
  },
  {
   "cell_type": "code",
   "execution_count": 0,
   "metadata": {
    "colab": {
     "base_uri": "https://localhost:8080/",
     "height": 181
    },
    "colab_type": "code",
    "id": "CtjxPgo80HR7",
    "outputId": "bdbdc687-776c-4ece-f597-9a83fc962cc9"
   },
   "outputs": [
    {
     "name": "stdout",
     "output_type": "stream",
     "text": [
      "<class 'scipy.sparse.csr.csr_matrix'> (104542, 83969)\n",
      "83969\n",
      "83969\n",
      "The fourth observation in data is as below :-\n",
      " works beautifully \n",
      "rank of word \"works\" in vocab is 82384\n",
      "rank of word \"beautifully\" in vocab is 6741\n",
      "\n",
      "The non zero columns in the training example no 3 are :- [ 6741 82384]\n"
     ]
    }
   ],
   "source": [
    "print(type(X_train_tfidf),X_train_tfidf.shape)\n",
    "print(X_train_tfidf.shape[1])\n",
    "print(len(vectorizer.vocabulary_.items()))\n",
    "print(\"The fourth observation in data is as below :-\\n\",X_train.iloc[3])\n",
    "for i in X_train.iloc[3].split():\n",
    "  print(\"rank of word \\\"{}\\\" in vocab is {}\".format(i,vectorizer.vocabulary_[i]))\n",
    "print(\"\\nThe non zero columns in the training example no 3 are :-\",X_train_tfidf[3].nonzero()[1])\n"
   ]
  },
  {
   "cell_type": "code",
   "execution_count": 0,
   "metadata": {
    "colab": {
     "base_uri": "https://localhost:8080/",
     "height": 235
    },
    "colab_type": "code",
    "id": "0Mh6KXDB24oh",
    "outputId": "d5a7f32e-d1eb-4b31-8a47-1e6b08b43440"
   },
   "outputs": [
    {
     "name": "stdout",
     "output_type": "stream",
     "text": [
      "The fourth observation in data is as below :-\n",
      "\n",
      " arrived quickly packaged appropriately looked like instructions didnt work called verizon programmed working  mins \n",
      "\n",
      "\n",
      "4377 58494 51222 3867 41321 40525 36165 19413 82124 10169 79008 57077 82266 44205 \n",
      "\n",
      "\n",
      "Hence in the Sparse Marix columns corresponding to only these values are non zero rest are 0 \n",
      "\n",
      " [44205 82266 57077 79008 10169 82124 19413 36165 41321  3867 51222 58494\n",
      "  4377 40525]\n"
     ]
    }
   ],
   "source": [
    "print(\"The fourth observation in data is as below :-\\n\\n\",X_train.iloc[2])\n",
    "print(\"\\n\")\n",
    "for i in X_train.iloc[2].strip().split():\n",
    "  print(vectorizer.vocabulary_[i],end=\" \")\n",
    "print(\"\\n\")\n",
    "print(\"\\nHence in the Sparse Marix columns corresponding to only these values are non zero rest are 0 \\n\\n\",X_train_tfidf[2].nonzero()[1],)\n",
    "# print(\"\\nHence in the Sparse Marix columns corresponding to only these values are non zero rest are 0 \\n\",X_train_count[2].nonzero()[1],)"
   ]
  },
  {
   "cell_type": "markdown",
   "metadata": {
    "colab_type": "text",
    "id": "K2-_JggdGk6b"
   },
   "source": [
    "**MultiNomialNB**"
   ]
  },
  {
   "cell_type": "code",
   "execution_count": 0,
   "metadata": {
    "colab": {
     "base_uri": "https://localhost:8080/",
     "height": 326
    },
    "colab_type": "code",
    "id": "L0mO1MRgGk6c",
    "outputId": "cb5389cc-3682-45e7-f11e-0c8b9a07ab46"
   },
   "outputs": [
    {
     "name": "stdout",
     "output_type": "stream",
     "text": [
      "\n",
      "Accuracy on validation set: 85.62 %\n",
      "\n",
      "Confusion Matrix : \n",
      " [[ 7055  6080]\n",
      " [  365 31304]]\n",
      "\n",
      "Classification report : \n",
      "               precision    recall  f1-score   support\n",
      "\n",
      "    Negative       0.95      0.54      0.69     13135\n",
      "    Positive       0.84      0.99      0.91     31669\n",
      "\n",
      "    accuracy                           0.86     44804\n",
      "   macro avg       0.89      0.76      0.80     44804\n",
      "weighted avg       0.87      0.86      0.84     44804\n",
      "\n"
     ]
    }
   ],
   "source": [
    "mnb = MultinomialNB()\n",
    "mnb.fit(X_train_tfidf, y_train)\n",
    "y_pred=mnb.predict(X_test_tfidf)\n",
    "model_efficiency(y_test,y_pred)"
   ]
  },
  {
   "cell_type": "markdown",
   "metadata": {
    "colab_type": "text",
    "id": "AbGPjgd8_7tm"
   },
   "source": [
    "Here, Accuracy goes down as compare to Count Vectorizer. <br>\n",
    "Clearly, Empirical Probability is reduced when idf penalty is used."
   ]
  },
  {
   "cell_type": "code",
   "execution_count": 0,
   "metadata": {
    "colab": {
     "base_uri": "https://localhost:8080/",
     "height": 108
    },
    "colab_type": "code",
    "id": "CnRXkEBKHEg0",
    "outputId": "fc93ecd4-967a-40c2-a173-1cc591e0e71e"
   },
   "outputs": [
    {
     "name": "stdout",
     "output_type": "stream",
     "text": [
      "[31390. 73152.]\n",
      "[-1.20309953 -0.35704944]\n",
      "(1, 83969)\n",
      "-1031471.3161498529\n",
      "(2, 83969)\n"
     ]
    }
   ],
   "source": [
    "print(mnb.class_count_)#Number of samples present for each class.\n",
    "print(mnb.class_log_prior_)#log(class sample /total samples)\n",
    "print(mnb.coef_.shape)#feature log probability\n",
    "print(sum(mnb.coef_[0]))\n",
    "print(mnb.feature_count_.shape)#count of number of features/words for each class"
   ]
  },
  {
   "cell_type": "markdown",
   "metadata": {
    "colab_type": "text",
    "id": "AJ1zTIeNGk6h"
   },
   "source": [
    "**Regularized Logistic Regression**"
   ]
  },
  {
   "cell_type": "code",
   "execution_count": 0,
   "metadata": {
    "colab": {
     "base_uri": "https://localhost:8080/",
     "height": 345
    },
    "colab_type": "code",
    "id": "JnilXIwm7kDf",
    "outputId": "59a1ebc3-9638-4c12-80d3-3c47e6b9f269"
   },
   "outputs": [
    {
     "name": "stdout",
     "output_type": "stream",
     "text": [
      "clf.best_params_ {'C': 1, 'penalty': 'l2'}\n",
      "\n",
      "Accuracy on validation set: 91.64 %\n",
      "\n",
      "Confusion Matrix : \n",
      " [[10849  2286]\n",
      " [ 1460 30209]]\n",
      "\n",
      "Classification report : \n",
      "               precision    recall  f1-score   support\n",
      "\n",
      "    Negative       0.88      0.83      0.85     13135\n",
      "    Positive       0.93      0.95      0.94     31669\n",
      "\n",
      "    accuracy                           0.92     44804\n",
      "   macro avg       0.91      0.89      0.90     44804\n",
      "weighted avg       0.92      0.92      0.92     44804\n",
      "\n"
     ]
    }
   ],
   "source": [
    "from sklearn.model_selection import GridSearchCV\n",
    "clf = LogisticRegression(random_state=0)\n",
    "grid_values = {'penalty': ['l1','l2'], 'C': [0.01,0.1,1]}\n",
    "clf = GridSearchCV(clf, param_grid=grid_values)\n",
    "clf.fit(X_train_tfidf, y_train)\n",
    "print(\"clf.best_params_\",clf.best_params_)\n",
    "y_pred=clf.predict(X_test_tfidf)\n",
    "model_efficiency(y_test,y_pred)"
   ]
  },
  {
   "cell_type": "markdown",
   "metadata": {
    "colab_type": "text",
    "id": "E-DTo9ss9Asc"
   },
   "source": [
    "Clearly, penalty is affecting the cost function also and helps in optimizations by gradient descent."
   ]
  },
  {
   "cell_type": "markdown",
   "metadata": {
    "colab_type": "text",
    "id": "02xhkunxFF-B"
   },
   "source": [
    "**As Expected TF-IDF is able to perform better than simple CountVectorizer**"
   ]
  },
  {
   "cell_type": "markdown",
   "metadata": {
    "colab_type": "text",
    "id": "USTRUm_VGk6t"
   },
   "source": [
    "# IDF calculation"
   ]
  },
  {
   "cell_type": "code",
   "execution_count": 0,
   "metadata": {
    "colab": {},
    "colab_type": "code",
    "id": "KrialikzGk6u"
   },
   "outputs": [],
   "source": [
    "import math\n",
    "def n_containing(word):\n",
    "    return sum(1 for blob in data_re['Reviews'] if word in blob.split())\n",
    "\n",
    "def idf(word):\n",
    "    return math.log((data.shape[0])/(n_containing(word)+1),10)"
   ]
  },
  {
   "cell_type": "markdown",
   "metadata": {
    "colab_type": "text",
    "id": "OuTpRrUyGk61"
   },
   "source": [
    "BOW weighted with IDF\n",
    "\n",
    "We will replace the value of Count Vectorizer for each word by their IDF values."
   ]
  },
  {
   "cell_type": "code",
   "execution_count": 0,
   "metadata": {
    "colab": {},
    "colab_type": "code",
    "id": "b8RwTygRGk62"
   },
   "outputs": [],
   "source": [
    "idf_review_vectorizer = CountVectorizer()\n",
    "idf_review_features = idf_review_vectorizer.fit_transform(data_re['Reviews'])\n",
    "idf_review_features  = idf_review_features.astype(np.float)\n",
    "for i in tqdm(idf_review_vectorizer.vocabulary_.keys()):           #iterate over each word in the vocabulary\n",
    "    idf_val = idf(i)                                               #calculate idf value for each word  \n",
    "    for j in idf_review_features[:, idf_review_vectorizer.vocabulary_[i]].nonzero()[0]:#iterate over all rows where word is present with a non zero value\n",
    "        idf_review_features[j,idf_review_vectorizer.vocabulary_[i]] = idf_val           #assign that cell the idf value"
   ]
  },
  {
   "cell_type": "markdown",
   "metadata": {
    "colab_type": "text",
    "id": "jsZt5YnwbAmG"
   },
   "source": [
    "The CountVectorizer values are replaced by their idf values."
   ]
  },
  {
   "cell_type": "code",
   "execution_count": 0,
   "metadata": {
    "colab": {},
    "colab_type": "code",
    "id": "SGoiaCX_Gk68"
   },
   "outputs": [],
   "source": [
    "X_train, X_test, y_train, y_test = train_test_split(idf_review_features, data_re['sentiment'], \\\n",
    "                                                    test_size=0.1, random_state=0)\n",
    "clf = LogisticRegression(random_state=0).fit(X_train, y_train)\n",
    "y_pred=clf.predict(X_test)\n",
    "model_efficiency(y_test,y_pred)"
   ]
  },
  {
   "cell_type": "markdown",
   "metadata": {
    "colab_type": "text",
    "id": "deebl716Gk7d"
   },
   "source": [
    "# Word To Vec\n",
    "\n",
    ">*   Simple Word2Vec uses the pretrained word vectors   produced in 300 dimensions.\n",
    ">*   Weighted Word2Vec scales(multiplies) the values of word vectors in each dimesnion by their IDF value.\n",
    "\n"
   ]
  },
  {
   "cell_type": "code",
   "execution_count": 0,
   "metadata": {
    "colab": {},
    "colab_type": "code",
    "id": "SfFnUknyGk7e"
   },
   "outputs": [],
   "source": [
    "from gensim.models import Word2Vec\n",
    "from gensim.models import KeyedVectors\n",
    "import pickle\n",
    "model = KeyedVectors.load_word2vec_format(path+'GoogleNews-vectors-negative300.bin', binary=True)"
   ]
  },
  {
   "cell_type": "code",
   "execution_count": 0,
   "metadata": {
    "colab": {},
    "colab_type": "code",
    "id": "TTIFkZW8Gk7h"
   },
   "outputs": [],
   "source": [
    "vocab = model.wv.vocab.keys()\n",
    "\n",
    "def build_avg_vec(sentence, num_features, doc_id, m_name):\n",
    "    featureVec = np.zeros((num_features,), dtype=\"float32\")    #initialize numpy array of dimensions = 300 \n",
    "    nwords = 0\n",
    "    for word in sentence.split():\n",
    "        nwords += 1\n",
    "        if word in vocab:\n",
    "            if m_name == 'weighted' and word in  idf_review_vectorizer.vocabulary_:\n",
    "                featureVec = np.add(featureVec, idf_review_features[doc_id, idf_review_vectorizer.vocabulary_[word]] * model[word])\n",
    "            elif m_name == 'avg':\n",
    "                featureVec = np.add(featureVec, model[word])  #add value of each word in each of 300 dimensions taken from the model .\n",
    "    if(nwords>0):\n",
    "        featureVec = np.divide(featureVec, nwords)            #normalise the values\n",
    "    return featureVec                                         #return a 300 dimension vector for each sentence."
   ]
  },
  {
   "cell_type": "markdown",
   "metadata": {},
   "source": [
    "**Average Word2Vec Reviews**"
   ]
  },
  {
   "cell_type": "code",
   "execution_count": 0,
   "metadata": {
    "colab": {},
    "colab_type": "code",
    "id": "ykiB3GKBGk7k"
   },
   "outputs": [],
   "source": [
    "doc_id = 0\n",
    "avg_w2v_reviews = []\n",
    "\n",
    "for i in data_re['Reviews']:\n",
    "    avg_w2v_reviews.append(build_avg_vec(i, 300, doc_id,'avg'))\n",
    "    doc_id += 1\n",
    "\n",
    "avg_w2v_reviews = np.array(avg_w2v_reviews) "
   ]
  },
  {
   "cell_type": "markdown",
   "metadata": {
    "colab_type": "text",
    "id": "9eBmxp5oGk7o"
   },
   "source": [
    "**Logistic Regression**"
   ]
  },
  {
   "cell_type": "code",
   "execution_count": 0,
   "metadata": {
    "colab": {
     "base_uri": "https://localhost:8080/",
     "height": 326
    },
    "colab_type": "code",
    "id": "eBvZw_arGk7p",
    "outputId": "da4f68d7-0847-4f48-fc2d-4339692ef66b"
   },
   "outputs": [
    {
     "name": "stdout",
     "output_type": "stream",
     "text": [
      "\n",
      "Accuracy on validation set: 88.57 %\n",
      "\n",
      "Classification report : \n",
      "               precision    recall  f1-score   support\n",
      "\n",
      "    Negative       0.83      0.76      0.80     14423\n",
      "    Positive       0.91      0.94      0.92     34862\n",
      "\n",
      "    accuracy                           0.89     49285\n",
      "   macro avg       0.87      0.85      0.86     49285\n",
      "weighted avg       0.88      0.89      0.88     49285\n",
      "\n",
      "\n",
      "Confusion Matrix : \n",
      " [[11024  3399]\n",
      " [ 2235 32627]]\n"
     ]
    }
   ],
   "source": [
    "X_train, X_test, y_train, y_test = train_test_split(avg_w2v_reviews, data_re['sentiment'], \\\n",
    "                                                    test_size=0.33, random_state=0)\n",
    "from sklearn.linear_model import LogisticRegression\n",
    "clf = LogisticRegression(random_state=0).fit(X_train, y_train)\n",
    "y_pred=clf.predict(X_test)\n",
    "model_efficiency(y_test,y_pred)"
   ]
  },
  {
   "cell_type": "markdown",
   "metadata": {},
   "source": [
    "**Weighted Word2Vec Reviews**"
   ]
  },
  {
   "cell_type": "code",
   "execution_count": 0,
   "metadata": {
    "colab": {},
    "colab_type": "code",
    "id": "5v2V15epGk7w"
   },
   "outputs": [],
   "source": [
    "doc_id = 0\n",
    "wtd_w2v_reviews = []\n",
    "\n",
    "for i in data_re['Reviews']:\n",
    "    wtd_w2v_reviews.append(build_avg_vec(i, 300, doc_id,'weighted'))\n",
    "    doc_id += 1\n",
    "\n",
    "wtd_w2v_reviews = np.array(wtd_w2v_reviews)"
   ]
  },
  {
   "cell_type": "markdown",
   "metadata": {
    "colab_type": "text",
    "id": "6H9-o1XBGk72"
   },
   "source": [
    "**Logistic Regression**"
   ]
  },
  {
   "cell_type": "code",
   "execution_count": 0,
   "metadata": {
    "colab": {},
    "colab_type": "code",
    "id": "51hmmCT3Gk73"
   },
   "outputs": [],
   "source": [
    "X_train, X_test, y_train, y_test = train_test_split(wtd_w2v_reviews, data_re['sentiment'], \\\n",
    "                                                    test_size=0.33, random_state=0)\n",
    "from sklearn.linear_model import LogisticRegression\n",
    "clf = LogisticRegression(random_state=0).fit(X_train, y_train)\n",
    "y_pred=clf.predict(X_test)\n",
    "model_efficiency(y_test,y_pred)"
   ]
  },
  {
   "cell_type": "markdown",
   "metadata": {
    "colab_type": "text",
    "id": "97EX-mgOGk7-"
   },
   "source": [
    "# LSTM\n",
    "\n",
    "\n",
    ">*   It is a type of Recurrent Neural Network.\n",
    ">\n",
    ">*   It can process entire sequences of data.\n",
    ">\n",
    ">*   It can learn the context between the words of a sentence.\n",
    "\n",
    "\n",
    "\n"
   ]
  },
  {
   "cell_type": "markdown",
   "metadata": {
    "colab_type": "text",
    "id": "5pMowDGWHjj8"
   },
   "source": [
    "\n",
    "Preparing The Input\n"
   ]
  },
  {
   "cell_type": "markdown",
   "metadata": {
    "colab_type": "text",
    "id": "sLH6qAdBVzK_"
   },
   "source": [
    ">Parameters"
   ]
  },
  {
   "cell_type": "code",
   "execution_count": 0,
   "metadata": {
    "colab": {},
    "colab_type": "code",
    "id": "Vl--AunQVxBl"
   },
   "outputs": [],
   "source": [
    "top_words = 20000 \n",
    "maxlen = 100 \n",
    "batch_size = 32\n",
    "nb_classes = 2\n",
    "num_of_epochs=5"
   ]
  },
  {
   "cell_type": "code",
   "execution_count": 0,
   "metadata": {
    "colab": {
     "base_uri": "https://localhost:8080/",
     "height": 126
    },
    "colab_type": "code",
    "id": "y-Y4NZnZGk7_",
    "outputId": "de17dd62-eaf3-4a8e-9b12-d8511020437e"
   },
   "outputs": [
    {
     "name": "stdout",
     "output_type": "stream",
     "text": [
      "X_train shape: (80048, 100)\n",
      "X_test shape: (29870, 100)\n",
      "X_valid shape: (39428, 100)\n",
      "y_train shape: (80048, 2)\n",
      "y_test shape: (29870, 2)\n",
      "y_valid shape: (39428, 2)\n"
     ]
    }
   ],
   "source": [
    "from keras.models import Sequential\n",
    "from keras.layers.core import Dense, Dropout, Activation, Lambda\n",
    "from keras.layers.embeddings import Embedding\n",
    "from keras.layers.recurrent import LSTM\n",
    "from keras.preprocessing.text import Tokenizer\n",
    "from keras.layers.embeddings import Embedding\n",
    "from keras.preprocessing import sequence\n",
    "from keras.utils import np_utils\n",
    "\n",
    "di={\"Positive\":1,\"Negative\":0}\n",
    "data_res=data_re.replace({\"sentiment\": di})\n",
    "\n",
    "X_train, X_test, y_train, y_test = train_test_split(data_res[\"Reviews\"], data_res['sentiment'], \\\n",
    "                                                    test_size=0.20, random_state=0)\n",
    "\n",
    "tokenizer = Tokenizer(nb_words=top_words) #only consider top 20000 words in the corpse\n",
    "tokenizer.fit_on_texts(X_train)\n",
    "\n",
    "sequences_train = tokenizer.texts_to_sequences(X_train)\n",
    "sequences_test = tokenizer.texts_to_sequences(X_test)\n",
    "\n",
    "X_train_seq = sequence.pad_sequences(sequences_train, maxlen=maxlen)\n",
    "X_test_seq = sequence.pad_sequences(sequences_test, maxlen=maxlen)\n",
    "\n",
    "y_train_seq = np_utils.to_categorical(y_train, nb_classes)\n",
    "y_test_seq = np_utils.to_categorical(y_test, nb_classes)\n",
    "\n",
    "X_train_seq, X_valid_seq, y_train_seq, y_valid_seq = train_test_split(X_train_seq, y_train_seq, \\\n",
    "                                                    test_size=0.33, random_state=0)\n",
    "\n",
    "\n",
    "print('X_train shape:', X_train_seq.shape) \n",
    "print('X_test shape:', X_test_seq.shape) \n",
    "print('X_valid shape:', X_valid_seq.shape) \n",
    "print('y_train shape:', y_train_seq.shape)\n",
    "print('y_test shape:', y_test_seq.shape)\n",
    "print('y_valid shape:', y_valid_seq.shape)"
   ]
  },
  {
   "cell_type": "code",
   "execution_count": 0,
   "metadata": {
    "colab": {},
    "colab_type": "code",
    "id": "NQvfUqF9tUaE"
   },
   "outputs": [],
   "source": [
    "from numpy import random\n",
    "\n",
    "def train_generator(features, labels, batch_size):\n",
    " batch_features = np.zeros((batch_size,maxlen))\n",
    " batch_labels = np.zeros((batch_size,nb_classes))\n",
    " while True:\n",
    "     for i in range(batch_size):\n",
    "        index= random.choice(len(features),1)\n",
    "        batch_features[i]=features[index]\n",
    "        batch_labels[i]=labels[index]\n",
    "     yield batch_features, batch_labels\n",
    "\n",
    "def validation_generator(features, labels, batch_size):\n",
    " batch_features = np.zeros((batch_size,maxlen))\n",
    " batch_labels = np.zeros((batch_size,nb_classes))\n",
    " while True:\n",
    "     for i in range(batch_size):\n",
    "        index= random.choice(len(features),1)\n",
    "        batch_features[i]=features[index]\n",
    "        batch_labels[i]=labels[index]\n",
    "     yield batch_features, batch_labels\n",
    "\n",
    "a=train_generator(X_train_seq, y_train_seq, batch_size)"
   ]
  },
  {
   "cell_type": "code",
   "execution_count": 0,
   "metadata": {
    "colab": {},
    "colab_type": "code",
    "id": "CV9Pux9knF0T"
   },
   "outputs": [],
   "source": [
    "# next(a)"
   ]
  },
  {
   "cell_type": "markdown",
   "metadata": {
    "colab_type": "text",
    "id": "ErQQR459j3Nw"
   },
   "source": [
    "**EarlyStopping**"
   ]
  },
  {
   "cell_type": "code",
   "execution_count": 0,
   "metadata": {
    "colab": {},
    "colab_type": "code",
    "id": "NgNUGP3qj31M"
   },
   "outputs": [],
   "source": [
    "from keras.callbacks import EarlyStopping\n",
    "earlystopping=EarlyStopping(\n",
    "    monitor=\"val_loss\",\n",
    "    min_delta=0.05,\n",
    "    patience=2,\n",
    "    verbose=1,\n",
    "    mode=\"auto\",\n",
    "    restore_best_weights=True,\n",
    ")"
   ]
  },
  {
   "cell_type": "markdown",
   "metadata": {
    "colab_type": "text",
    "id": "bD8lwtevH5Re"
   },
   "source": [
    "\n",
    "\n",
    "*   tokenizer is used to convert the word to index.\n",
    "*   padding is used to make all sequences of same length by prepending with 0.\n",
    "\n"
   ]
  },
  {
   "cell_type": "code",
   "execution_count": 0,
   "metadata": {
    "colab": {
     "base_uri": "https://localhost:8080/",
     "height": 565
    },
    "colab_type": "code",
    "id": "GXoCGoRGGk8M",
    "outputId": "5c89b664-0898-4057-f120-cb41bce61a5b"
   },
   "outputs": [
    {
     "name": "stdout",
     "output_type": "stream",
     "text": [
      "Model: \"sequential_8\"\n",
      "_________________________________________________________________\n",
      "Layer (type)                 Output Shape              Param #   \n",
      "=================================================================\n",
      "embedding_8 (Embedding)      (None, None, 128)         2560000   \n",
      "_________________________________________________________________\n",
      "lstm_8 (LSTM)                (None, 128)               131584    \n",
      "_________________________________________________________________\n",
      "dense_8 (Dense)              (None, 2)                 258       \n",
      "_________________________________________________________________\n",
      "activation_8 (Activation)    (None, 2)                 0         \n",
      "=================================================================\n",
      "Total params: 2,691,842\n",
      "Trainable params: 2,691,842\n",
      "Non-trainable params: 0\n",
      "_________________________________________________________________\n",
      "Epoch 1/5\n",
      "2501/2501 [==============================] - 492s 197ms/step - loss: 0.2527 - accuracy: 0.8996 - val_loss: 0.3105 - val_accuracy: 0.9064\n",
      "Epoch 2/5\n",
      "2501/2501 [==============================] - 487s 195ms/step - loss: 0.1932 - accuracy: 0.9282 - val_loss: 0.3353 - val_accuracy: 0.9113\n",
      "Epoch 3/5\n",
      "2501/2501 [==============================] - 497s 199ms/step - loss: 0.1734 - accuracy: 0.9369 - val_loss: 0.0871 - val_accuracy: 0.9125\n",
      "Epoch 4/5\n",
      "2501/2501 [==============================] - 501s 200ms/step - loss: 0.1511 - accuracy: 0.9449 - val_loss: 0.0578 - val_accuracy: 0.9089\n",
      "Epoch 5/5\n",
      "2501/2501 [==============================] - 496s 198ms/step - loss: 0.1396 - accuracy: 0.9499 - val_loss: 0.1610 - val_accuracy: 0.9114\n",
      "Restoring model weights from the end of the best epoch\n",
      "Epoch 00005: early stopping\n"
     ]
    },
    {
     "data": {
      "text/plain": [
       "<keras.callbacks.callbacks.History at 0x7fea81082cf8>"
      ]
     },
     "execution_count": 91,
     "metadata": {
      "tags": []
     },
     "output_type": "execute_result"
    }
   ],
   "source": [
    "lstm_model = Sequential()\n",
    "lstm_model.add(Embedding(top_words, 128, dropout=0.2))\n",
    "lstm_model.add(LSTM(128,dropout_W=0.5,dropout_U=0.2)) \n",
    "lstm_model.add(Dense(nb_classes))\n",
    "lstm_model.add(Activation('softmax'))\n",
    "lstm_model.summary()\n",
    "\n",
    "lstm_model.compile(loss='binary_crossentropy',\n",
    "              optimizer='adam',\n",
    "              metrics=['accuracy'])\n",
    "\n",
    "lstm_model.fit_generator(train_generator(X_train_seq, y_train_seq, batch_size), \n",
    "                     samples_per_epoch=X_train_seq.shape[0]//batch_size, nb_epoch=num_of_epochs,\n",
    "                     validation_data=validation_generator(X_valid_seq, y_valid_seq, batch_size),\n",
    "                     validation_steps=X_valid_seq.shape[0]//batch_size ,callbacks=[earlystopping])"
   ]
  },
  {
   "cell_type": "code",
   "execution_count": 0,
   "metadata": {
    "colab": {
     "base_uri": "https://localhost:8080/",
     "height": 326
    },
    "colab_type": "code",
    "id": "zzv7nUIB1IGH",
    "outputId": "dc76e8be-9a33-422a-b57e-1b5bd76b2e1c"
   },
   "outputs": [
    {
     "name": "stdout",
     "output_type": "stream",
     "text": [
      "\n",
      "Accuracy on validation set: 91.20 %\n",
      "\n",
      "Classification report : \n",
      "               precision    recall  f1-score   support\n",
      "\n",
      "           0       0.87      0.83      0.85      8744\n",
      "           1       0.93      0.95      0.94     21126\n",
      "\n",
      "    accuracy                           0.91     29870\n",
      "   macro avg       0.90      0.89      0.89     29870\n",
      "weighted avg       0.91      0.91      0.91     29870\n",
      "\n",
      "\n",
      "Confusion Matrix : \n",
      " [[ 7219  1525]\n",
      " [ 1104 20022]]\n"
     ]
    }
   ],
   "source": [
    "pred = lstm_model.predict(X_test_seq)\n",
    "y_pred=[np.argmax(x) for x in pred]\n",
    "model_efficiency(y_test,y_pred)"
   ]
  },
  {
   "cell_type": "markdown",
   "metadata": {
    "colab_type": "text",
    "id": "LqmO0k34_EFy"
   },
   "source": [
    "**Observations**:-\n",
    ">**Accuracy**\n",
    "*   The accuracy is quite good but as the classes are imbalanced, We should look at confusion matrix and classification report also.\n",
    "\n",
    "**Classification Report**\n",
    ">*   Precision close to 1 indicates False Positives are close to 0.<br>\n",
    ">*   Recall close to 1 indicates False Negatives are close to 0.<br>\n",
    "\n",
    "**Confusion Matrix**\n",
    ">*   Out of 8744 Negative Reviews , our model is able to predict 7219 of them correctly.\n",
    ">*   Out of 21126 Positive Reviews , our model is able to predict 20022 of them correctly.\n",
    "\n"
   ]
  },
  {
   "cell_type": "code",
   "execution_count": 0,
   "metadata": {
    "colab": {
     "base_uri": "https://localhost:8080/",
     "height": 72
    },
    "colab_type": "code",
    "id": "piobw2lHGk8Q",
    "outputId": "0c9bc35e-428e-4350-9a1e-2e0cf08363f9"
   },
   "outputs": [
    {
     "name": "stdout",
     "output_type": "stream",
     "text": [
      "Shape of output matrix in the embedding layer :  (None, None, 128)\n",
      "Shape of output matrix in the hidden layer :  (None, 128)\n",
      "Shape of output matrix in the output layer :  (None, 2)\n"
     ]
    }
   ],
   "source": [
    "print(\"Shape of output matrix in the embedding layer : \", \\\n",
    "      lstm_model.layers[0].output.shape) \n",
    "\n",
    "print(\"Shape of output matrix in the hidden layer : \", \\\n",
    "      lstm_model.layers[1].output.shape) \n",
    "\n",
    "print(\"Shape of output matrix in the output layer : \", \\\n",
    "      lstm_model.layers[2].output.shape) "
   ]
  },
  {
   "cell_type": "markdown",
   "metadata": {
    "colab_type": "text",
    "id": "ZBXZRbWDczAZ"
   },
   "source": [
    "**EMBEDDING LAYER**\n",
    "\n",
    ">*   Each of the words taken are represented in 128 dimensions by embedding layer\n",
    ">*   Embedding layers in Keras are tuned to minimize the loss function by using the optimization method.\n",
    ">*   It cannot capture complete word semantics.\n",
    ">*   It is more like a lookup table for embedding of words.\n",
    "\n",
    "\n",
    "\n",
    "**LSTM Weights**\n",
    "\n",
    ">*   Each of the sequence is passed through all 128 LSTM units.\n",
    ">*   For each units, 4 types of weights are learned at Forget gate ,Input Gate,Cell Update and Output Gate and 4 biases for each unit.\n",
    "\n",
    "**Output Weights**\n",
    "\n",
    ">*   The LSTM produces a number from each unit learned from the sequences. \n",
    ">*   The 128 length output is squashed into 2 output classes learning 128 * 2 weights and 2 biases.\n",
    "\n",
    "\n",
    "\n"
   ]
  },
  {
   "cell_type": "markdown",
   "metadata": {
    "colab_type": "text",
    "id": "2xmkaNU-lNIr"
   },
   "source": [
    "**Loss Function** -Cross Entropy\n",
    "\n",
    ">  *   Cross-entropy loss, measures the performance of a classification model whose output is a probability value between 0 and 1.\n",
    ">  *   Cross-entropy loss increases as the predicted probability diverges from the actual label.\n",
    "  *Formulae:-  \n",
    "      For Each Class:<br>\n",
    "      −∑y*log(p) for each observations,<br>\n",
    "      y may be the target distribution and p is the approximation of the target distribution.\n",
    "\n",
    "\n",
    "\n",
    "**Optimizers** - ADAM.\n",
    "\n",
    ">*   Adaptive Moment Estimation\n",
    ">*   The method computes individual adaptive learning rates for different parameters from estimates of first and second moments of the gradients.\n",
    ">*   learning rate=η/(sqrt(v(t) + ε)\n",
    "  *   η=initial learning rate\n",
    "  *   v(t)=estimates of the second moment of the gradients.\n",
    "\n",
    ">*   θ(t+1) = θ(t) − l.r. * m(t)<br>\n",
    "    m(t)=estimates of the first moment of the gradients.\n",
    "\n",
    "\n",
    "\n",
    "\n"
   ]
  },
  {
   "cell_type": "markdown",
   "metadata": {
    "colab_type": "text",
    "id": "oKospentGk8V"
   },
   "source": [
    "# LSTM with Word2Vec\n",
    "\n",
    "Here, We will use the words embedding obtained from pre-trained Word2Vec and use it as embedding for LSTM."
   ]
  },
  {
   "cell_type": "code",
   "execution_count": 0,
   "metadata": {
    "colab": {
     "base_uri": "https://localhost:8080/",
     "height": 35
    },
    "colab_type": "code",
    "id": "D6orNIelGk8W",
    "outputId": "fe9645fc-079a-47b0-a1f1-d509bb440f2b"
   },
   "outputs": [
    {
     "name": "stdout",
     "output_type": "stream",
     "text": [
      "Shape of embedding matrix :  (3000000, 300)\n"
     ]
    }
   ],
   "source": [
    "from gensim.models import Word2Vec\n",
    "from gensim.models import KeyedVectors\n",
    "w2v_model = KeyedVectors.load_word2vec_format(path+'GoogleNews-vectors-negative300.bin', binary=True)\n",
    "embedding_matrix = w2v_model.wv.syn0  \n",
    "print(\"Shape of embedding matrix : \", embedding_matrix.shape) \n",
    "# w2v.wv.syn0[0] #feature vector of the first word in the volcabulary list"
   ]
  },
  {
   "cell_type": "markdown",
   "metadata": {
    "colab_type": "text",
    "id": "AyKC3KBOvAos"
   },
   "source": [
    "\n",
    "Preparig custom Embedding Layer from Word2vec\n",
    "---\n",
    ">Here we use fixed weights vectors for each word  taken from word2vec.<br>\n",
    ">Also,we will not train the embedding layer \n"
   ]
  },
  {
   "cell_type": "code",
   "execution_count": 0,
   "metadata": {
    "colab": {},
    "colab_type": "code",
    "id": "dnabntvcMiOr"
   },
   "outputs": [],
   "source": [
    "EMBEDDING_DIM=300\n",
    "top_words=len(tokenizer.word_index)+1\n",
    "embedding_matrix = np.zeros((top_words, EMBEDDING_DIM))\n",
    "for word, i in tokenizer.word_index.items():\n",
    "    if word in w2v_model.vocab:\n",
    "        embedding_matrix[i] = w2v_model.word_vec(word)"
   ]
  },
  {
   "cell_type": "code",
   "execution_count": 0,
   "metadata": {
    "colab": {
     "base_uri": "https://localhost:8080/",
     "height": 528
    },
    "colab_type": "code",
    "id": "gS07l1uyGk8h",
    "outputId": "404b2158-d6a9-4594-9ea5-1e1095aa5441"
   },
   "outputs": [
    {
     "name": "stdout",
     "output_type": "stream",
     "text": [
      "Model: \"sequential_12\"\n",
      "_________________________________________________________________\n",
      "Layer (type)                 Output Shape              Param #   \n",
      "=================================================================\n",
      "embedding_12 (Embedding)     (None, None, 300)         27630600  \n",
      "_________________________________________________________________\n",
      "lstm_12 (LSTM)               (None, 128)               219648    \n",
      "_________________________________________________________________\n",
      "dense_12 (Dense)             (None, 2)                 258       \n",
      "_________________________________________________________________\n",
      "activation_12 (Activation)   (None, 2)                 0         \n",
      "=================================================================\n",
      "Total params: 27,850,506\n",
      "Trainable params: 219,906\n",
      "Non-trainable params: 27,630,600\n",
      "_________________________________________________________________\n",
      "Epoch 1/5\n",
      "2501/2501 [==============================] - 418s 167ms/step - loss: 0.3466 - accuracy: 0.8492 - val_loss: 0.2122 - val_accuracy: 0.8848\n",
      "Epoch 2/5\n",
      "2501/2501 [==============================] - 418s 167ms/step - loss: 0.2839 - accuracy: 0.8804 - val_loss: 0.2000 - val_accuracy: 0.8988\n",
      "Epoch 3/5\n",
      "2501/2501 [==============================] - 420s 168ms/step - loss: 0.2664 - accuracy: 0.8894 - val_loss: 0.1574 - val_accuracy: 0.9063\n",
      "Epoch 4/5\n",
      "2501/2501 [==============================] - 434s 174ms/step - loss: 0.2439 - accuracy: 0.8995 - val_loss: 0.2848 - val_accuracy: 0.9111\n",
      "Epoch 5/5\n",
      "2501/2501 [==============================] - 434s 174ms/step - loss: 0.2345 - accuracy: 0.9044 - val_loss: 0.0406 - val_accuracy: 0.9099\n"
     ]
    },
    {
     "data": {
      "text/plain": [
       "<keras.callbacks.callbacks.History at 0x7fea804776d8>"
      ]
     },
     "execution_count": 107,
     "metadata": {
      "tags": []
     },
     "output_type": "execute_result"
    }
   ],
   "source": [
    "embedding_layer = Embedding(embedding_matrix.shape[0],\n",
    "                            embedding_matrix.shape[1], #300\n",
    "                            weights=[embedding_matrix],trainable=False)\n",
    "\n",
    "lstm_model_w2v = Sequential()\n",
    "lstm_model_w2v.add(embedding_layer)\n",
    "lstm_model_w2v.add(LSTM(128, dropout_W=0.5, dropout_U=0.5)) \n",
    "lstm_model_w2v.add(Dense(nb_classes))\n",
    "lstm_model_w2v.add(Activation('softmax'))\n",
    "lstm_model_w2v.summary()\n",
    "\n",
    "lstm_model_w2v.compile(loss='binary_crossentropy',\n",
    "              optimizer='adam',\n",
    "              metrics=['accuracy'])\n",
    "\n",
    "lstm_model_w2v.fit_generator(train_generator(X_train_seq, y_train_seq, batch_size), \n",
    "                     samples_per_epoch=X_train_seq.shape[0]//batch_size, nb_epoch=num_of_epochs,\n",
    "                     validation_data=validation_generator(X_valid_seq, y_valid_seq, batch_size),\n",
    "                     validation_steps=X_valid_seq.shape[0]//batch_size ,callbacks=[earlystopping])"
   ]
  },
  {
   "cell_type": "code",
   "execution_count": 0,
   "metadata": {
    "colab": {
     "base_uri": "https://localhost:8080/",
     "height": 326
    },
    "colab_type": "code",
    "id": "6EYK95e-Uph4",
    "outputId": "19fd4bca-6715-43f7-b493-f213d078899b"
   },
   "outputs": [
    {
     "name": "stdout",
     "output_type": "stream",
     "text": [
      "\n",
      "Accuracy on validation set: 91.35 %\n",
      "\n",
      "Classification report : \n",
      "               precision    recall  f1-score   support\n",
      "\n",
      "           0       0.88      0.82      0.85      8744\n",
      "           1       0.93      0.95      0.94     21126\n",
      "\n",
      "    accuracy                           0.91     29870\n",
      "   macro avg       0.90      0.89      0.89     29870\n",
      "weighted avg       0.91      0.91      0.91     29870\n",
      "\n",
      "\n",
      "Confusion Matrix : \n",
      " [[ 7161  1583]\n",
      " [ 1001 20125]]\n"
     ]
    }
   ],
   "source": [
    "pred = lstm_model_w2v.predict(X_test_seq)\n",
    "y_pred=[np.argmax(x) for x in pred]\n",
    "model_efficiency(y_test,y_pred)"
   ]
  },
  {
   "cell_type": "markdown",
   "metadata": {
    "colab_type": "text",
    "id": "-GWzAM849m8p"
   },
   "source": [
    "with Word2Vec as Embedding Layer and trainable=True"
   ]
  },
  {
   "cell_type": "code",
   "execution_count": 0,
   "metadata": {
    "colab": {
     "base_uri": "https://localhost:8080/",
     "height": 528
    },
    "colab_type": "code",
    "id": "WJZIj-IIg9HB",
    "outputId": "9c3b01f2-d731-42da-cacd-78c82a3f9931"
   },
   "outputs": [
    {
     "name": "stdout",
     "output_type": "stream",
     "text": [
      "Model: \"sequential_13\"\n",
      "_________________________________________________________________\n",
      "Layer (type)                 Output Shape              Param #   \n",
      "=================================================================\n",
      "embedding_13 (Embedding)     (None, None, 300)         27630600  \n",
      "_________________________________________________________________\n",
      "lstm_13 (LSTM)               (None, 128)               219648    \n",
      "_________________________________________________________________\n",
      "dense_13 (Dense)             (None, 2)                 258       \n",
      "_________________________________________________________________\n",
      "activation_13 (Activation)   (None, 2)                 0         \n",
      "=================================================================\n",
      "Total params: 27,850,506\n",
      "Trainable params: 27,850,506\n",
      "Non-trainable params: 0\n",
      "_________________________________________________________________\n",
      "Epoch 1/5\n",
      "2501/2501 [==============================] - 490s 196ms/step - loss: 0.2506 - accuracy: 0.8997 - val_loss: 0.2163 - val_accuracy: 0.9157\n",
      "Epoch 2/5\n",
      "2501/2501 [==============================] - 493s 197ms/step - loss: 0.1911 - accuracy: 0.9281 - val_loss: 0.0981 - val_accuracy: 0.9157\n",
      "Epoch 3/5\n",
      "2501/2501 [==============================] - 495s 198ms/step - loss: 0.1662 - accuracy: 0.9387 - val_loss: 0.0815 - val_accuracy: 0.9195\n",
      "Epoch 4/5\n",
      "2501/2501 [==============================] - 490s 196ms/step - loss: 0.1462 - accuracy: 0.9470 - val_loss: 0.1930 - val_accuracy: 0.9132\n",
      "Restoring model weights from the end of the best epoch\n",
      "Epoch 00004: early stopping\n"
     ]
    },
    {
     "data": {
      "text/plain": [
       "<keras.callbacks.callbacks.History at 0x7fea71419fd0>"
      ]
     },
     "execution_count": 109,
     "metadata": {
      "tags": []
     },
     "output_type": "execute_result"
    }
   ],
   "source": [
    "embedding_layer = Embedding(embedding_matrix.shape[0],\n",
    "                            embedding_matrix.shape[1], #300\n",
    "                            weights=[embedding_matrix],trainable=True)\n",
    "\n",
    "model3 = Sequential()\n",
    "model3.add(embedding_layer)\n",
    "model3.add(LSTM(128, dropout_W=0.5, dropout_U=0.5)) \n",
    "model3.add(Dense(nb_classes))\n",
    "model3.add(Activation('softmax'))\n",
    "model3.summary()\n",
    "\n",
    "model3.compile(loss='binary_crossentropy',\n",
    "              optimizer='adam',\n",
    "              metrics=['accuracy'])\n",
    "model3.fit_generator(train_generator(X_train_seq, y_train_seq, batch_size), \n",
    "                     samples_per_epoch=X_train_seq.shape[0]//batch_size, nb_epoch=num_of_epochs,\n",
    "                     validation_data=validation_generator(X_valid_seq, y_valid_seq, batch_size),\n",
    "                     validation_steps=X_valid_seq.shape[0]//batch_size ,callbacks=[earlystopping])"
   ]
  },
  {
   "cell_type": "code",
   "execution_count": 0,
   "metadata": {
    "colab": {
     "base_uri": "https://localhost:8080/",
     "height": 326
    },
    "colab_type": "code",
    "id": "uvqJg9sEzL0h",
    "outputId": "ea203033-c759-4878-fd5f-590fda0b7429"
   },
   "outputs": [
    {
     "name": "stdout",
     "output_type": "stream",
     "text": [
      "\n",
      "Accuracy on validation set: 91.64 %\n",
      "\n",
      "Classification report : \n",
      "               precision    recall  f1-score   support\n",
      "\n",
      "           0       0.89      0.81      0.85      8744\n",
      "           1       0.92      0.96      0.94     21126\n",
      "\n",
      "    accuracy                           0.92     29870\n",
      "   macro avg       0.91      0.89      0.90     29870\n",
      "weighted avg       0.92      0.92      0.92     29870\n",
      "\n",
      "\n",
      "Confusion Matrix : \n",
      " [[ 7090  1654]\n",
      " [  844 20282]]\n"
     ]
    }
   ],
   "source": [
    "pred = model3.predict(X_test_seq)\n",
    "y_pred=[np.argmax(x) for x in pred]\n",
    "model_efficiency(y_test,y_pred)"
   ]
  },
  {
   "cell_type": "code",
   "execution_count": 0,
   "metadata": {
    "colab": {
     "base_uri": "https://localhost:8080/",
     "height": 72
    },
    "colab_type": "code",
    "id": "h3Mj0FImGk8l",
    "outputId": "0eb77661-8e7b-4d8b-fc63-2234460570ba"
   },
   "outputs": [
    {
     "name": "stdout",
     "output_type": "stream",
     "text": [
      "Shape of output matrix in the embedding layer :  (None, None, 300)\n",
      "Shape of output matrix in the hidden layer :  (None, 128)\n",
      "Shape of output matrix in the output layer :  (None, 2)\n"
     ]
    }
   ],
   "source": [
    "print(\"Shape of output matrix in the embedding layer : \", \\\n",
    "      model3.layers[0].output.shape) \n",
    "\n",
    "print(\"Shape of output matrix in the hidden layer : \", \\\n",
    "      model3.layers[1].output.shape) \n",
    "\n",
    "print(\"Shape of output matrix in the output layer : \", \\\n",
    "      model3.layers[2].output.shape) "
   ]
  },
  {
   "cell_type": "markdown",
   "metadata": {
    "colab_type": "text",
    "id": "ZSI66yM6qWQ9"
   },
   "source": [
    "**Testing on Real World Reivews**<br><br>\n",
    ">I tested the model on few real world reviews taken from this url:-<br>\n",
    ">\n",
    ">https://www.commonsensemedia.org/app-reviews/tiktok/user-reviews"
   ]
  },
  {
   "cell_type": "code",
   "execution_count": 0,
   "metadata": {
    "colab": {
     "base_uri": "https://localhost:8080/",
     "height": 474
    },
    "colab_type": "code",
    "id": "kX4uoL_BC9iq",
    "outputId": "34328947-d5ee-4767-fa62-a44529f0962f"
   },
   "outputs": [
    {
     "name": "stdout",
     "output_type": "stream",
     "text": [
      "This is a great app for kids 10 and up. There is some lots of swearing and lots of singing and dancing. This is a really fun. My nine year old and 12 year old really enjoy it. There is an option to make a private account which is great. My only concern is the swearing. Most of it is s**t. But I would say this is a really positive app as long as you have a private account so in order for someone to view your posts you have to accept them. I think this app is alot like Instagram just ALOT more positive. There is alot of body positively unlike some other apps out there. Its a really good app and my daughters dont get alot of follow requests other then from their friends. I would definitely recommend this app. \n",
      "Positive\n",
      "====================================================================================================================================================================================================================================================================================================================================================================================================================================================================================================================\n",
      "I’m know I’m wasting my time to write a review of crazy freaky app and the app itself time wasting stuff . Short and simple this app is totally waste and too much violence \n",
      "Negative\n",
      "====================================================================================================================================================================================================================================================================================================================================================================================================================================================================================================================\n",
      "No signup needed and on the second video, the cursing began, followed right after by sexually suggestive content. \n",
      "Positive\n",
      "====================================================================================================================================================================================================================================================================================================================================================================================================================================================================================================================\n",
      "Lots of fun for teens and grown ups! Yes there is some mature content but with privacy settings and monitoring by parents it can easily avoided. Me and my thirteen year old daughter love it! \n",
      "Positive\n",
      "====================================================================================================================================================================================================================================================================================================================================================================================================================================================================================================================\n",
      "It's good in concept, but the world is full of bad people who abuse others. TikTok's very nature, and it's ability to allow people to freely message underage users, who themselves can be coerced or tricked into revealing personal information, make it too dangerous for minors. \n",
      "Negative\n",
      "====================================================================================================================================================================================================================================================================================================================================================================================================================================================================================================================\n",
      "A lot of these negative reviews are false. As usual on the Common Sense Media, there is always parents hating on social media apps. If you make your account private, view your child's account, and make messages from friends only or no one, it is safe and suitable for kids. \n",
      "Positive\n",
      "====================================================================================================================================================================================================================================================================================================================================================================================================================================================================================================================\n",
      "I’m know I’m wasting my time to write a review of crazy freaky app and the app itself time wasting stuff . Short and simple this app is totally waste and too much violence \n",
      "Negative\n",
      "====================================================================================================================================================================================================================================================================================================================================================================================================================================================================================================================\n",
      "If you're child wants to get Tik Tok, make sure that their account is private and that they are only friend with people they know in real life. \n",
      "Positive\n",
      "====================================================================================================================================================================================================================================================================================================================================================================================================================================================================================================================\n"
     ]
    }
   ],
   "source": [
    "def nlp_preprocessing(total_text):\n",
    "    if (type(total_text) is not int) and (type(total_text) is not float):\n",
    "        string = \"\"\n",
    "        for words in total_text.split():\n",
    "            word = (\"\".join(char for char in words if char.isalpha())) #remove the special chars like '\"#$@!%^&*()_+-~?><\n",
    "            word = word.lower()         # Conver all letters to lower-case\n",
    "            if not word in stop_words_set:            # stop-word removal\n",
    "                string += word + \" \"\n",
    "    else:\n",
    "        pass\n",
    "    return string\n",
    "reviews=[\"This is a great app for kids 10 and up. There is some lots of swearing and lots of singing and dancing. This is a really fun. My nine year old and 12 year old really enjoy it. There is an option to make a private account which is great. My only concern is the swearing. Most of it is s**t. But I would say this is a really positive app as long as you have a private account so in order for someone to view your posts you have to accept them. I think this app is alot like Instagram just ALOT more positive. There is alot of body positively unlike some other apps out there. Its a really good app and my daughters dont get alot of follow requests other then from their friends. I would definitely recommend this app.\"\n",
    ",\"I’m know I’m wasting my time to write a review of crazy freaky app and the app itself time wasting stuff . Short and simple this app is totally waste and too much violence\"\n",
    ",\"No signup needed and on the second video, the cursing began, followed right after by sexually suggestive content.\",\n",
    "\"Lots of fun for teens and grown ups! Yes there is some mature content but with privacy settings and monitoring by parents it can easily avoided. Me and my thirteen year old daughter love it!\",\n",
    "\"It's good in concept, but the world is full of bad people who abuse others. TikTok's very nature, and it's ability to allow people to freely message underage users, who themselves can be coerced or tricked into revealing personal information, make it too dangerous for minors.\",\n",
    "\"A lot of these negative reviews are false. As usual on the Common Sense Media, there is always parents hating on social media apps. If you make your account private, view your child's account, and make messages from friends only or no one, it is safe and suitable for kids.\",\n",
    "\"I’m know I’m wasting my time to write a review of crazy freaky app and the app itself time wasting stuff . Short and simple this app is totally waste and too much violence\",\n",
    "\"If you're child wants to get Tik Tok, make sure that their account is private and that they are only friend with people they know in real life.\"]\n",
    "for i in reviews:\n",
    "  cus_train_seq=nlp_preprocessing(i)\n",
    "  cus_train_seq = tokenizer.texts_to_sequences([cus_train_seq])\n",
    "  cus_train_seq = sequence.pad_sequences(cus_train_seq, maxlen=maxlen)\n",
    "  prediction=np.argmax(model3.predict(cus_train_seq))\n",
    "  if prediction==1:\n",
    "    print(i,\"\\nPositive\")\n",
    "  elif prediction==0:\n",
    "    print(i,\"\\nNegative\")\n",
    "  print(\"=\"*500)"
   ]
  },
  {
   "cell_type": "markdown",
   "metadata": {
    "colab_type": "text",
    "id": "w5IPILbGO6ey"
   },
   "source": [
    "The results looks quite satisfying!"
   ]
  },
  {
   "cell_type": "markdown",
   "metadata": {
    "colab_type": "text",
    "id": "Y_dSBB2KO-Sw"
   },
   "source": [
    "&emsp;&emsp;&emsp;&emsp;&emsp;&emsp;&emsp;&emsp;&emsp;&emsp;&emsp;&emsp;&emsp;&emsp;&emsp;&emsp;&emsp;&emsp;&emsp;&emsp;&emsp;&emsp;&emsp;&emsp;&emsp;&emsp;&emsp;&emsp;&emsp;&emsp;&emsp;```END!```"
   ]
  }
 ],
 "metadata": {
  "accelerator": "GPU",
  "colab": {
   "collapsed_sections": [],
   "name": "senti-analysis.ipynb",
   "provenance": []
  },
  "kernelspec": {
   "display_name": "Python 3",
   "language": "python",
   "name": "python3"
  },
  "language_info": {
   "codemirror_mode": {
    "name": "ipython",
    "version": 3
   },
   "file_extension": ".py",
   "mimetype": "text/x-python",
   "name": "python",
   "nbconvert_exporter": "python",
   "pygments_lexer": "ipython3",
   "version": "3.6.9"
  },
  "widgets": {
   "application/vnd.jupyter.widget-state+json": {
    "1d1b0f9cb0ce40c6b0a4fbcddda33db7": {
     "model_module": "@jupyter-widgets/controls",
     "model_name": "DescriptionStyleModel",
     "state": {
      "_model_module": "@jupyter-widgets/controls",
      "_model_module_version": "1.5.0",
      "_model_name": "DescriptionStyleModel",
      "_view_count": null,
      "_view_module": "@jupyter-widgets/base",
      "_view_module_version": "1.2.0",
      "_view_name": "StyleView",
      "description_width": ""
     }
    },
    "2c5bfdcff7c84e1e80c408e8483534e4": {
     "model_module": "@jupyter-widgets/controls",
     "model_name": "HBoxModel",
     "state": {
      "_dom_classes": [],
      "_model_module": "@jupyter-widgets/controls",
      "_model_module_version": "1.5.0",
      "_model_name": "HBoxModel",
      "_view_count": null,
      "_view_module": "@jupyter-widgets/controls",
      "_view_module_version": "1.5.0",
      "_view_name": "HBoxView",
      "box_style": "",
      "children": [
       "IPY_MODEL_cf8f2642dca745529ca8a45bd0936ed5",
       "IPY_MODEL_987349266d3c449681917f9cf40ae191"
      ],
      "layout": "IPY_MODEL_fd9b40404fb24c94bba01817b60bcf83"
     }
    },
    "6aa16dae4ea945d39b572c820e84514e": {
     "model_module": "@jupyter-widgets/base",
     "model_name": "LayoutModel",
     "state": {
      "_model_module": "@jupyter-widgets/base",
      "_model_module_version": "1.2.0",
      "_model_name": "LayoutModel",
      "_view_count": null,
      "_view_module": "@jupyter-widgets/base",
      "_view_module_version": "1.2.0",
      "_view_name": "LayoutView",
      "align_content": null,
      "align_items": null,
      "align_self": null,
      "border": null,
      "bottom": null,
      "display": null,
      "flex": null,
      "flex_flow": null,
      "grid_area": null,
      "grid_auto_columns": null,
      "grid_auto_flow": null,
      "grid_auto_rows": null,
      "grid_column": null,
      "grid_gap": null,
      "grid_row": null,
      "grid_template_areas": null,
      "grid_template_columns": null,
      "grid_template_rows": null,
      "height": null,
      "justify_content": null,
      "justify_items": null,
      "left": null,
      "margin": null,
      "max_height": null,
      "max_width": null,
      "min_height": null,
      "min_width": null,
      "object_fit": null,
      "object_position": null,
      "order": null,
      "overflow": null,
      "overflow_x": null,
      "overflow_y": null,
      "padding": null,
      "right": null,
      "top": null,
      "visibility": null,
      "width": null
     }
    },
    "987349266d3c449681917f9cf40ae191": {
     "model_module": "@jupyter-widgets/controls",
     "model_name": "HTMLModel",
     "state": {
      "_dom_classes": [],
      "_model_module": "@jupyter-widgets/controls",
      "_model_module_version": "1.5.0",
      "_model_name": "HTMLModel",
      "_view_count": null,
      "_view_module": "@jupyter-widgets/controls",
      "_view_module_version": "1.5.0",
      "_view_name": "HTMLView",
      "description": "",
      "description_tooltip": null,
      "layout": "IPY_MODEL_a72d15850db24df78d9a4c9e0f4d7e65",
      "placeholder": "​",
      "style": "IPY_MODEL_1d1b0f9cb0ce40c6b0a4fbcddda33db7",
      "value": " 149346/149346 [02:24&lt;00:00, 1030.89it/s]"
     }
    },
    "a72d15850db24df78d9a4c9e0f4d7e65": {
     "model_module": "@jupyter-widgets/base",
     "model_name": "LayoutModel",
     "state": {
      "_model_module": "@jupyter-widgets/base",
      "_model_module_version": "1.2.0",
      "_model_name": "LayoutModel",
      "_view_count": null,
      "_view_module": "@jupyter-widgets/base",
      "_view_module_version": "1.2.0",
      "_view_name": "LayoutView",
      "align_content": null,
      "align_items": null,
      "align_self": null,
      "border": null,
      "bottom": null,
      "display": null,
      "flex": null,
      "flex_flow": null,
      "grid_area": null,
      "grid_auto_columns": null,
      "grid_auto_flow": null,
      "grid_auto_rows": null,
      "grid_column": null,
      "grid_gap": null,
      "grid_row": null,
      "grid_template_areas": null,
      "grid_template_columns": null,
      "grid_template_rows": null,
      "height": null,
      "justify_content": null,
      "justify_items": null,
      "left": null,
      "margin": null,
      "max_height": null,
      "max_width": null,
      "min_height": null,
      "min_width": null,
      "object_fit": null,
      "object_position": null,
      "order": null,
      "overflow": null,
      "overflow_x": null,
      "overflow_y": null,
      "padding": null,
      "right": null,
      "top": null,
      "visibility": null,
      "width": null
     }
    },
    "cf8f2642dca745529ca8a45bd0936ed5": {
     "model_module": "@jupyter-widgets/controls",
     "model_name": "FloatProgressModel",
     "state": {
      "_dom_classes": [],
      "_model_module": "@jupyter-widgets/controls",
      "_model_module_version": "1.5.0",
      "_model_name": "FloatProgressModel",
      "_view_count": null,
      "_view_module": "@jupyter-widgets/controls",
      "_view_module_version": "1.5.0",
      "_view_name": "ProgressView",
      "bar_style": "success",
      "description": "100%",
      "description_tooltip": null,
      "layout": "IPY_MODEL_6aa16dae4ea945d39b572c820e84514e",
      "max": 149346,
      "min": 0,
      "orientation": "horizontal",
      "style": "IPY_MODEL_f21a7589d1dc417696e4eea5c89ade02",
      "value": 149346
     }
    },
    "f21a7589d1dc417696e4eea5c89ade02": {
     "model_module": "@jupyter-widgets/controls",
     "model_name": "ProgressStyleModel",
     "state": {
      "_model_module": "@jupyter-widgets/controls",
      "_model_module_version": "1.5.0",
      "_model_name": "ProgressStyleModel",
      "_view_count": null,
      "_view_module": "@jupyter-widgets/base",
      "_view_module_version": "1.2.0",
      "_view_name": "StyleView",
      "bar_color": null,
      "description_width": "initial"
     }
    },
    "fd9b40404fb24c94bba01817b60bcf83": {
     "model_module": "@jupyter-widgets/base",
     "model_name": "LayoutModel",
     "state": {
      "_model_module": "@jupyter-widgets/base",
      "_model_module_version": "1.2.0",
      "_model_name": "LayoutModel",
      "_view_count": null,
      "_view_module": "@jupyter-widgets/base",
      "_view_module_version": "1.2.0",
      "_view_name": "LayoutView",
      "align_content": null,
      "align_items": null,
      "align_self": null,
      "border": null,
      "bottom": null,
      "display": null,
      "flex": null,
      "flex_flow": null,
      "grid_area": null,
      "grid_auto_columns": null,
      "grid_auto_flow": null,
      "grid_auto_rows": null,
      "grid_column": null,
      "grid_gap": null,
      "grid_row": null,
      "grid_template_areas": null,
      "grid_template_columns": null,
      "grid_template_rows": null,
      "height": null,
      "justify_content": null,
      "justify_items": null,
      "left": null,
      "margin": null,
      "max_height": null,
      "max_width": null,
      "min_height": null,
      "min_width": null,
      "object_fit": null,
      "object_position": null,
      "order": null,
      "overflow": null,
      "overflow_x": null,
      "overflow_y": null,
      "padding": null,
      "right": null,
      "top": null,
      "visibility": null,
      "width": null
     }
    }
   }
  }
 },
 "nbformat": 4,
 "nbformat_minor": 1
}
